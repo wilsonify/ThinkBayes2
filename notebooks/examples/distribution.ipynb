{
 "cells": [
  {
   "cell_type": "markdown",
   "metadata": {},
   "source": [
    "# What is a distribution?\n",
    "\n",
    "An object-oriented exploration of one of the most useful concepts in statistics.\n",
    "\n",
    "Copyright 2016 Allen Downey\n",
    "\n",
    "MIT License: http://opensource.org/licenses/MIT"
   ]
  },
  {
   "cell_type": "code",
   "execution_count": 1,
   "metadata": {
    "collapsed": false,
    "jupyter": {
     "outputs_hidden": false
    }
   },
   "outputs": [],
   "source": [
    "from __future__ import print_function, division\n",
    "\n",
    "%matplotlib inline\n",
    "%precision 6\n",
    "\n",
    "import warnings\n",
    "warnings.filterwarnings('ignore')\n",
    "\n",
    "from thinkbayes import Pmf, Cdf\n",
    "import thinkbayes.thinkplot\n",
    "\n",
    "import numpy as np\n",
    "from numpy.fft import fft, ifft"
   ]
  },
  {
   "cell_type": "code",
   "execution_count": 2,
   "metadata": {},
   "outputs": [],
   "source": [
    "from inspect import getsourcelines\n",
    "\n",
    "def show_code(func):\n",
    "    lines, _ = getsourcelines(func)\n",
    "    for line in lines:\n",
    "        print(line, end='')"
   ]
  },
  {
   "cell_type": "markdown",
   "metadata": {},
   "source": [
    "## Playing dice with the universe\n",
    "\n",
    "One of the recurring themes of my books is the use of object-oriented programming to explore mathematical ideas.  Many mathematical entities are hard to define because they are so abstract.  Representing them in Python puts the focus on what operations each entity supports -- that is, what the objects can *do* -- rather than on what they *are*.\n",
    "\n",
    "In this notebook, I explore the idea of a probability distribution, which is one of the most important ideas in statistics, but also one of the hardest to explain.\n",
    "\n",
    "To keep things concrete, I'll start with one of the usual examples: rolling dice.  When you roll a standard six-sided die, there are six possible outcomes -- numbers 1 through 6 -- and all outcomes are equally likely.\n",
    "\n",
    "If you roll two dice and add up the total, there are 11 possible outcomes -- numbers 2 through 12 -- but they are not equally likely.  The least likely outcomes, 2 and 12, only happen once in 36 tries; the most likely outcome happens 1 times in 6.\n",
    "\n",
    "And if you roll three dice and add them up, you get a different set of possible outcomes with a different set of probabilities.\n",
    "\n",
    "What I've just described are three random number generators, which are also called **random processes**.  The output from a random process is a **random variable**, or more generally a set of random variables.  And each random variable has **probability distribution**, which is the set of possible outcomes and the corresponding set of probabilities.\n",
    "\n",
    "There are many ways to represent a probability distribution.  The most obvious is a **probability mass function**, or PMF, which is a function that maps from each possible outcome to its probability.  And in Python, the most obvious way to represent a PMF is a dictionary that maps from outcomes to probabilities.\n",
    "\n",
    "`thinkbayes2` provides a class called `Pmf` that represents a probability mass function.  Each `Pmf` contains a dictionary named `d` that contains the values and probabilities.  To show how this class is used, I'll create a `Pmf` that represents a six-sided die:"
   ]
  },
  {
   "cell_type": "code",
   "execution_count": 3,
   "metadata": {
    "collapsed": false,
    "jupyter": {
     "outputs_hidden": false
    }
   },
   "outputs": [
    {
     "name": "stdout",
     "output_type": "stream",
     "text": [
      "1 1\n",
      "2 1\n",
      "3 1\n",
      "4 1\n",
      "5 1\n",
      "6 1\n"
     ]
    }
   ],
   "source": [
    "d6 = Pmf()\n",
    "for x in range(1, 7):\n",
    "    d6[x] = 1\n",
    "\n",
    "d6.Print()"
   ]
  },
  {
   "cell_type": "markdown",
   "metadata": {},
   "source": [
    "Initially the \"probabilities\" are all 1, so the total probability in the `Pmf` is 6, which doesn't make a lot of sense.  In a proper, meaningful, PMF, the probabilities add up to 1, which implies that one outcome, and only one outcome, will occur (for any given roll of the die).\n",
    "\n",
    "We can take this \"unnormalized\" distribution and make it a proper `Pmf` using the `Normalize` method.  Here's what the method looks like:"
   ]
  },
  {
   "cell_type": "code",
   "execution_count": 4,
   "metadata": {
    "collapsed": false,
    "jupyter": {
     "outputs_hidden": false
    }
   },
   "outputs": [
    {
     "name": "stdout",
     "output_type": "stream",
     "text": [
      "    def Normalize(self, fraction=1):\n",
      "        \"\"\"Normalizes this PMF so the sum of all probs is fraction.\n",
      "\n",
      "        Args:\n",
      "            fraction: what the total should be after normalization\n",
      "\n",
      "        Returns: the total probability before normalizing\n",
      "        \"\"\"\n",
      "        if self.log:\n",
      "            raise ValueError(\"Normalize: Pmf is under a log transform\")\n",
      "\n",
      "        total = self.Total()\n",
      "        if total == 0:\n",
      "            raise ValueError(\"Normalize: total probability is zero.\")\n",
      "\n",
      "        factor = fraction / total\n",
      "        for x in self.d:\n",
      "            self.d[x] *= factor\n",
      "\n",
      "        return total\n"
     ]
    }
   ],
   "source": [
    "show_code(Pmf.Normalize)"
   ]
  },
  {
   "cell_type": "markdown",
   "metadata": {},
   "source": [
    "`Normalize` adds up the probabilities in the PMF and divides through by the total.  The result is a `Pmf` with probabilities that add to 1.\n",
    "\n",
    "Here's how it's used:"
   ]
  },
  {
   "cell_type": "code",
   "execution_count": 5,
   "metadata": {
    "collapsed": false,
    "jupyter": {
     "outputs_hidden": false
    }
   },
   "outputs": [
    {
     "name": "stdout",
     "output_type": "stream",
     "text": [
      "1 0.16666666666666666\n",
      "2 0.16666666666666666\n",
      "3 0.16666666666666666\n",
      "4 0.16666666666666666\n",
      "5 0.16666666666666666\n",
      "6 0.16666666666666666\n"
     ]
    }
   ],
   "source": [
    "d6.Normalize()\n",
    "d6.Print()"
   ]
  },
  {
   "cell_type": "markdown",
   "metadata": {},
   "source": [
    "The fundamental operation provided by a `Pmf` is a \"lookup\"; that is, we can look up an outcome and get the corresponding probability.  `Pmf` provides `__getitem__`, so we can use bracket notation to look up an outcome:"
   ]
  },
  {
   "cell_type": "code",
   "execution_count": 6,
   "metadata": {
    "collapsed": false,
    "jupyter": {
     "outputs_hidden": false
    }
   },
   "outputs": [
    {
     "data": {
      "text/plain": [
       "0.166667"
      ]
     },
     "execution_count": 6,
     "metadata": {},
     "output_type": "execute_result"
    }
   ],
   "source": [
    "d6[3]"
   ]
  },
  {
   "cell_type": "markdown",
   "metadata": {},
   "source": [
    "And if you look up a value that's not in the `Pmf`, the probability is 0."
   ]
  },
  {
   "cell_type": "code",
   "execution_count": 7,
   "metadata": {
    "collapsed": false,
    "jupyter": {
     "outputs_hidden": false
    }
   },
   "outputs": [
    {
     "data": {
      "text/plain": [
       "0"
      ]
     },
     "execution_count": 7,
     "metadata": {},
     "output_type": "execute_result"
    }
   ],
   "source": [
    "d6[7]"
   ]
  },
  {
   "cell_type": "markdown",
   "metadata": {},
   "source": [
    "**Exerise:** Create a `Pmf` that represents a six-sided die that is red on two sides and blue on the other four."
   ]
  },
  {
   "cell_type": "code",
   "execution_count": 8,
   "metadata": {
    "collapsed": false,
    "jupyter": {
     "outputs_hidden": false
    }
   },
   "outputs": [
    {
     "name": "stdout",
     "output_type": "stream",
     "text": [
      "blue 0.6666666666666666\n",
      "red 0.3333333333333333\n"
     ]
    }
   ],
   "source": [
    "# Solution\n",
    "\n",
    "die = Pmf(dict(red=2, blue=4))\n",
    "die.Normalize()\n",
    "die.Print()"
   ]
  },
  {
   "cell_type": "markdown",
   "metadata": {},
   "source": [
    "## Is that all there is?\n",
    "\n",
    "So is a `Pmf` a distribution?  No.  At least in this framework, a `Pmf` is one of several representations of a distribution.  Other representations include the **cumulative distribution function**, or CDF, and the **characteristic function**.\n",
    "\n",
    "These representations are equivalent in the sense that they all contain the same informaton; if I give you any one of them, you can figure out the others (and we'll see how soon).\n",
    "\n",
    "So why would we want different representations of the same information?  The fundamental reason is that there are many different operations we would like to perform with distributions; that is, questions we would like to answer.  Some representations are better for some operations, but none of them is the best for all operations.\n",
    "\n",
    "So what are the questions we would like a distribution to answer?  They include:\n",
    "\n",
    "*  What is the probability of a given outcome?\n",
    "*  What is the mean of the outcomes, taking into account their probabilities?\n",
    "*  What is the variance, and other moments, of the outcome?\n",
    "*  What is the probability that the outcome exceeds (or falls below) a threshold?\n",
    "*  What is the median of the outcomes, that is, the 50th percentile?\n",
    "*  What are the other percentiles?\n",
    "*  How can get generate a random sample from this distribution, with the appropriate probabilities?\n",
    "*  If we run two random processes and choose the maximum of the outcomes (or minimum), what is the distribution of the result?\n",
    "*  If we run two random processes and add up the results, what is the distribution of the sum?\n",
    "\n",
    "Each of these questions corresponds to a method we would like a distribution to provide.  But as I said, there is no one representation that answers all of them easily and efficiently.  So let's look at the different representations and see what they can do.\n",
    "\n",
    "Getting back to the `Pmf`, we've already seen how to look up the probability of a given outcome.  Here's the code:"
   ]
  },
  {
   "cell_type": "code",
   "execution_count": 9,
   "metadata": {
    "collapsed": false,
    "jupyter": {
     "outputs_hidden": false
    }
   },
   "outputs": [
    {
     "name": "stdout",
     "output_type": "stream",
     "text": [
      "    def __getitem__(self, value):\n",
      "        return self.d.get(value, 0)\n"
     ]
    }
   ],
   "source": [
    "show_code(Pmf.__getitem__)"
   ]
  },
  {
   "cell_type": "markdown",
   "metadata": {},
   "source": [
    "Python dictionaries are implemented using hash tables, so we expect `__getitem__` to be fast.  In terms of algorithmic complexity, it is constant time, or $O(1)$.\n",
    "\n",
    "## Moments and expecations\n",
    "\n",
    "The `Pmf` representation is also good for computing mean, variance, and other moments.  Here's the implementation of `Pmf.Mean`:"
   ]
  },
  {
   "cell_type": "code",
   "execution_count": 10,
   "metadata": {
    "collapsed": false,
    "jupyter": {
     "outputs_hidden": false
    }
   },
   "outputs": [
    {
     "name": "stdout",
     "output_type": "stream",
     "text": [
      "    def Mean(self):\n",
      "        \"\"\"Computes the mean of a PMF.\n",
      "\n",
      "        Returns:\n",
      "            float mean\n",
      "        \"\"\"\n",
      "        return sum(p * x for x, p in self.Items())\n"
     ]
    }
   ],
   "source": [
    "show_code(Pmf.Mean)"
   ]
  },
  {
   "cell_type": "markdown",
   "metadata": {},
   "source": [
    "This implementation is efficient, in the sense that it is $O(n)$, and because it uses a comprehension to traverse the outcomes, the overhead is low. \n",
    "\n",
    "The implementation of `Pmf.Var` is similar:"
   ]
  },
  {
   "cell_type": "code",
   "execution_count": 11,
   "metadata": {
    "collapsed": false,
    "jupyter": {
     "outputs_hidden": false
    }
   },
   "outputs": [
    {
     "name": "stdout",
     "output_type": "stream",
     "text": [
      "    def Var(self, mu=None):\n",
      "        \"\"\"Computes the variance of a PMF.\n",
      "\n",
      "        mu: the point around which the variance is computed;\n",
      "                if omitted, computes the mean\n",
      "\n",
      "        returns: float variance\n",
      "        \"\"\"\n",
      "        if mu is None:\n",
      "            mu = self.Mean()\n",
      "\n",
      "        return sum(p * (x - mu) ** 2 for x, p in self.Items())\n"
     ]
    }
   ],
   "source": [
    "show_code(Pmf.Var)"
   ]
  },
  {
   "cell_type": "markdown",
   "metadata": {},
   "source": [
    "And here's how they are used:"
   ]
  },
  {
   "cell_type": "code",
   "execution_count": 12,
   "metadata": {
    "collapsed": false,
    "jupyter": {
     "outputs_hidden": false
    }
   },
   "outputs": [
    {
     "data": {
      "text/plain": [
       "(3.500000, 2.916667)"
      ]
     },
     "execution_count": 12,
     "metadata": {},
     "output_type": "execute_result"
    }
   ],
   "source": [
    "d6.Mean(), d6.Var()"
   ]
  },
  {
   "cell_type": "markdown",
   "metadata": {},
   "source": [
    "The structure of `Mean` and `Var` is the same: they traverse the outcomes and their probabilities, `x` and `p`, and add up the product of `p` and some function of `x`.\n",
    "\n",
    "We can generalize this structure to compute the **expectation** of any function of `x`, which is defined as\n",
    "\n",
    "$E[f] = \\sum_x p(x) f(x)$\n",
    "\n",
    "`Pmf` provides `Expect`, which takes a function object, `func`, and returns the expectation of `func`:"
   ]
  },
  {
   "cell_type": "code",
   "execution_count": 13,
   "metadata": {
    "collapsed": false,
    "jupyter": {
     "outputs_hidden": false
    }
   },
   "outputs": [
    {
     "name": "stdout",
     "output_type": "stream",
     "text": [
      "    def Expect(self, func):\n",
      "        \"\"\"Computes the expectation of func(x).\n",
      "\n",
      "        Returns:\n",
      "            expectation\n",
      "        \"\"\"\n",
      "        return np.sum(p * func(x) for x, p in self.Items())\n"
     ]
    }
   ],
   "source": [
    "show_code(Pmf.Expect)"
   ]
  },
  {
   "cell_type": "markdown",
   "metadata": {},
   "source": [
    "As an example, we can use `Expect` to compute the third central moment of the distribution: "
   ]
  },
  {
   "cell_type": "code",
   "execution_count": 14,
   "metadata": {
    "collapsed": false,
    "jupyter": {
     "outputs_hidden": false
    }
   },
   "outputs": [
    {
     "data": {
      "text/plain": [
       "0.000000"
      ]
     },
     "execution_count": 14,
     "metadata": {},
     "output_type": "execute_result"
    }
   ],
   "source": [
    "mu = d6.Mean()\n",
    "d6.Expect(lambda x: (x-mu)**3)"
   ]
  },
  {
   "cell_type": "markdown",
   "metadata": {},
   "source": [
    "Because the distribution is symmetric, the third central moment is 0."
   ]
  },
  {
   "cell_type": "markdown",
   "metadata": {},
   "source": [
    "## Addition\n",
    "\n",
    "The next question we'll answer is the last one on the list: if we run two random processes and add up the results, what is the distribution of the sum?  In other words, if the result of the first process is a random variable, $X$, and the result of the second is $Y$, what is the distribution of $X+Y$?\n",
    "\n",
    "The `Pmf` representation of the distribution can answer this question pretty well, but we'll see later that the characteristic function is even better.\n",
    "\n",
    "Here's the implementation:"
   ]
  },
  {
   "cell_type": "code",
   "execution_count": 15,
   "metadata": {
    "collapsed": false,
    "jupyter": {
     "outputs_hidden": false
    }
   },
   "outputs": [
    {
     "name": "stdout",
     "output_type": "stream",
     "text": [
      "    def AddPmf(self, other):\n",
      "        \"\"\"Computes the Pmf of the sum of values drawn from self and other.\n",
      "\n",
      "        other: another Pmf\n",
      "\n",
      "        returns: new Pmf\n",
      "        \"\"\"\n",
      "        pmf = Pmf()\n",
      "        for v1, p1 in self.Items():\n",
      "            for v2, p2 in other.Items():\n",
      "                pmf[v1 + v2] += p1 * p2\n",
      "        return pmf\n"
     ]
    }
   ],
   "source": [
    "show_code(Pmf.AddPmf)"
   ]
  },
  {
   "cell_type": "markdown",
   "metadata": {},
   "source": [
    "The outer loop traverses the outcomes and probabilities of the first `Pmf`; the inner loop traverses the second `Pmf`.  Each time through the loop, we compute the sum of the outcome pair, `v1` and `v2`,  and the probability that the pair occurs.\n",
    "\n",
    "Note that this method implicitly assumes that the two processes are independent; that is, the outcome from one does not affect the other.  That's why we can compute the probability of the pair by multiplying the probabilities of the outcomes.\n",
    "\n",
    "To demonstrate this method, we'll start with `d6` again.  Here's what it looks like:"
   ]
  },
  {
   "cell_type": "code",
   "execution_count": 16,
   "metadata": {
    "collapsed": false,
    "jupyter": {
     "outputs_hidden": false
    }
   },
   "outputs": [
    {
     "data": {
      "image/png": "[encoded data removed]",
      "text/plain": [
       "<Figure size 432x288 with 1 Axes>"
      ]
     },
     "metadata": {
      "needs_background": "light"
     },
     "output_type": "display_data"
    }
   ],
   "source": [
    "thinkbayes.thinkplot.Pdf(d6)"
   ]
  },
  {
   "cell_type": "markdown",
   "metadata": {},
   "source": [
    "When we use the `+` operator, Python invokes `__add__`, which invokes `AddPmf`, which returns a new `Pmf` object.  Here's the `Pmf` that represents the sum of two dice:"
   ]
  },
  {
   "cell_type": "code",
   "execution_count": 17,
   "metadata": {
    "collapsed": false,
    "jupyter": {
     "outputs_hidden": false
    }
   },
   "outputs": [
    {
     "data": {
      "image/png": "[encoded data removed]",
      "text/plain": [
       "<Figure size 432x288 with 1 Axes>"
      ]
     },
     "metadata": {
      "needs_background": "light"
     },
     "output_type": "display_data"
    }
   ],
   "source": [
    "twice = d6 + d6\n",
    "thinkbayes.thinkplot.Pdf(twice, color='green')"
   ]
  },
  {
   "cell_type": "markdown",
   "metadata": {},
   "source": [
    "And here's the `Pmf` that represents the sum of three dice."
   ]
  },
  {
   "cell_type": "code",
   "execution_count": 18,
   "metadata": {
    "collapsed": false,
    "jupyter": {
     "outputs_hidden": false
    }
   },
   "outputs": [
    {
     "data": {
      "image/png": "[encoded data removed]",
      "text/plain": [
       "<Figure size 432x288 with 1 Axes>"
      ]
     },
     "metadata": {
      "needs_background": "light"
     },
     "output_type": "display_data"
    }
   ],
   "source": [
    "thrice = twice + d6\n",
    "thinkbayes.thinkplot.Pdf(d6)\n",
    "thinkbayes.thinkplot.Pdf(twice, color='green')\n",
    "thinkbayes.thinkplot.Pdf(thrice, color='red')"
   ]
  },
  {
   "cell_type": "markdown",
   "metadata": {},
   "source": [
    "As we add up more dice, the result converges to the bell shape of the Gaussian distribution."
   ]
  },
  {
   "cell_type": "markdown",
   "metadata": {},
   "source": [
    "**Exercise:** If you did the previous exercise, you have a `Pmf` that represents a die with red on 2 sides and blue on the other 4.  Use the `+` operator to compute the outcomes of rolling two of these dice and the probabilities of the outcomes.\n",
    "\n",
    "Note: if you represent the outcomes as strings, `AddPmf` concatenates them instead of adding, which actually works."
   ]
  },
  {
   "cell_type": "code",
   "execution_count": 19,
   "metadata": {
    "collapsed": false,
    "jupyter": {
     "outputs_hidden": false
    }
   },
   "outputs": [
    {
     "name": "stdout",
     "output_type": "stream",
     "text": [
      "blueblue 0.4444444444444444\n",
      "bluered 0.2222222222222222\n",
      "redblue 0.2222222222222222\n",
      "redred 0.1111111111111111\n"
     ]
    }
   ],
   "source": [
    "# Solution\n",
    "\n",
    "dice = die + die\n",
    "dice.Print()"
   ]
  },
  {
   "cell_type": "markdown",
   "metadata": {},
   "source": [
    "## Cumulative probabilities"
   ]
  },
  {
   "cell_type": "markdown",
   "metadata": {},
   "source": [
    "The next few questions on the list are related to the median and other percentiles.  They are harder to answer with the `Pmf` representation, but easier with a **cumulative distribution function** (CDF).\n",
    "\n",
    "A CDF is a map from an outcome, $x$, to its cumulative probability, which is the probability that the outcome is less than or equal to $x$.  In math notation:\n",
    "\n",
    "$CDF(x) = Prob(X \\le x)$\n",
    "\n",
    "where $X$ is the outcome of a random process, and $x$ is the threshold we are interested in.  For example, if $CDF$ is the cumulative distribution for the sum of three dice, the probability of getting 5 or less is $CDF(5)$, and the probability of getting 6 or more is $1 - CDF(5)$.\n",
    "\n",
    "`thinkbayes2` provides a class called Cdf that represents a cumulative distribution function.  It uses a sorted list of outcomes and the corresponding list of cumulative probabilities.  The `__init__` method is complicated because it accepts a lot of different parameters.  The important part is the last 4 lines."
   ]
  },
  {
   "cell_type": "code",
   "execution_count": 20,
   "metadata": {
    "collapsed": false,
    "jupyter": {
     "outputs_hidden": false
    }
   },
   "outputs": [
    {
     "name": "stdout",
     "output_type": "stream",
     "text": [
      "    def __init__(self, obj=None, ps=None, label=None):\n",
      "        \"\"\"Initializes.\n",
      "\n",
      "        If ps is provided, obj must be the corresponding list of values.\n",
      "\n",
      "        obj: Hist, Pmf, Cdf, Pdf, dict, pandas Series, list of pairs\n",
      "        ps: list of cumulative probabilities\n",
      "        label: string label\n",
      "        \"\"\"\n",
      "        self.label = label if label is not None else DEFAULT_LABEL\n",
      "\n",
      "        if isinstance(obj, (_DictWrapper, Cdf, Pdf)):\n",
      "            if not label:\n",
      "                self.label = label if label is not None else obj.label\n",
      "\n",
      "        if obj is None:\n",
      "            # caller does not provide obj, make an empty Cdf\n",
      "            self.xs = np.asarray([])\n",
      "            self.ps = np.asarray([])\n",
      "            if ps is not None:\n",
      "                logging.warning(\"Cdf: can't pass ps without also passing xs.\")\n",
      "            return\n",
      "        else:\n",
      "            # if the caller provides xs and ps, just store them\n",
      "            if ps is not None:\n",
      "                if isinstance(ps, str):\n",
      "                    logging.warning(\"Cdf: ps can't be a string\")\n",
      "\n",
      "                self.xs = np.asarray(obj)\n",
      "                self.ps = np.asarray(ps)\n",
      "                return\n",
      "\n",
      "        # caller has provided just obj, not ps\n",
      "        if isinstance(obj, Cdf):\n",
      "            self.xs = copy.copy(obj.xs)\n",
      "            self.ps = copy.copy(obj.ps)\n",
      "            return\n",
      "\n",
      "        if isinstance(obj, _DictWrapper):\n",
      "            dw = obj\n",
      "        else:\n",
      "            dw = Hist(obj)\n",
      "\n",
      "        if len(dw) == 0:\n",
      "            self.xs = np.asarray([])\n",
      "            self.ps = np.asarray([])\n",
      "            return\n",
      "\n",
      "        xs, freqs = zip(*sorted(dw.Items()))\n",
      "        self.xs = np.asarray(xs)\n",
      "        self.ps = np.cumsum(freqs, dtype=np.float)\n",
      "        self.ps /= self.ps[-1]\n"
     ]
    }
   ],
   "source": [
    "show_code(Cdf.__init__)"
   ]
  },
  {
   "cell_type": "markdown",
   "metadata": {},
   "source": [
    "`xs` is the sorted list of values, and `freqs` are their frequencies or probabilities.\n",
    "\n",
    "`ps` is the list of cumulative frequencies or probabilities, which we normalize by dividing through by the last element.\n",
    "\n",
    "Here's how we use it to create a `Cdf` object for the sum of three dice:"
   ]
  },
  {
   "cell_type": "code",
   "execution_count": 21,
   "metadata": {
    "collapsed": false,
    "jupyter": {
     "outputs_hidden": false
    }
   },
   "outputs": [
    {
     "name": "stdout",
     "output_type": "stream",
     "text": [
      "3 0.00462962962962963\n",
      "4 0.01851851851851852\n",
      "5 0.0462962962962963\n",
      "6 0.0925925925925926\n",
      "7 0.16203703703703706\n",
      "8 0.2592592592592593\n",
      "9 0.37500000000000006\n",
      "10 0.5000000000000001\n",
      "11 0.6250000000000001\n",
      "12 0.7407407407407408\n",
      "13 0.837962962962963\n",
      "14 0.9074074074074074\n",
      "15 0.9537037037037037\n",
      "16 0.9814814814814815\n",
      "17 0.9953703703703703\n",
      "18 1.0\n"
     ]
    }
   ],
   "source": [
    "cdf = Cdf(thrice)\n",
    "cdf.Print()"
   ]
  },
  {
   "cell_type": "markdown",
   "metadata": {},
   "source": [
    "Because we have to sort the values, the time to compute a `Cdf` is $O(n \\log n)$.\n",
    "\n",
    "Here's what the CDF looks like:"
   ]
  },
  {
   "cell_type": "code",
   "execution_count": 22,
   "metadata": {
    "collapsed": false,
    "jupyter": {
     "outputs_hidden": false
    }
   },
   "outputs": [
    {
     "data": {
      "image/png": "[encoded data removed]",
      "text/plain": [
       "<Figure size 432x288 with 1 Axes>"
      ]
     },
     "metadata": {
      "needs_background": "light"
     },
     "output_type": "display_data"
    }
   ],
   "source": [
    "thinkbayes.thinkplot.Cdf(cdf);"
   ]
  },
  {
   "cell_type": "markdown",
   "metadata": {},
   "source": [
    "The range of the CDF is always from 0 to 1.\n",
    "\n",
    "Now we can compute $CDF(x)$ by searching the `xs` to find the right location, or index, and then looking up the corresponding probability.  Because the `xs` are sorted, we can use bisection search, which is $O(\\log n)$.\n",
    "\n",
    "`Cdf` provides `Probs`, which takes an array of values and returns the corresponding probabilities:"
   ]
  },
  {
   "cell_type": "code",
   "execution_count": 23,
   "metadata": {
    "collapsed": false,
    "jupyter": {
     "outputs_hidden": false
    }
   },
   "outputs": [
    {
     "name": "stdout",
     "output_type": "stream",
     "text": [
      "    def Probs(self, xs):\n",
      "        \"\"\"Gets probabilities for a sequence of values.\n",
      "\n",
      "        xs: any sequence that can be converted to NumPy array\n",
      "\n",
      "        returns: NumPy array of cumulative probabilities\n",
      "        \"\"\"\n",
      "        xs = np.asarray(xs)\n",
      "        index = np.searchsorted(self.xs, xs, side=\"right\")\n",
      "        ps = self.ps[index - 1]\n",
      "        ps[xs < self.xs[0]] = 0\n",
      "        return ps\n"
     ]
    }
   ],
   "source": [
    "show_code(Cdf.Probs)"
   ]
  },
  {
   "cell_type": "markdown",
   "metadata": {},
   "source": [
    "The details here are a little tricky because we have to deal with some \"off by one\" problems, and if any of the values are less than the smallest value in the `Cdf`, we have to handle that as a special case.  But the basic idea is simple, and the implementation is efficient.\n",
    "\n",
    "Now we can look up probabilities for a sequence of values:"
   ]
  },
  {
   "cell_type": "code",
   "execution_count": 24,
   "metadata": {
    "collapsed": false,
    "jupyter": {
     "outputs_hidden": false
    }
   },
   "outputs": [
    {
     "data": {
      "text/plain": [
       "array([0. , 0.5, 1. ])"
      ]
     },
     "execution_count": 24,
     "metadata": {},
     "output_type": "execute_result"
    }
   ],
   "source": [
    "cdf.Probs((2, 10, 18))"
   ]
  },
  {
   "cell_type": "markdown",
   "metadata": {},
   "source": [
    "`Cdf` also provides `__getitem__`, so we can use brackets to look up a single value:"
   ]
  },
  {
   "cell_type": "code",
   "execution_count": 25,
   "metadata": {
    "collapsed": false,
    "jupyter": {
     "outputs_hidden": false
    }
   },
   "outputs": [
    {
     "data": {
      "text/plain": [
       "0.0462962962962963"
      ]
     },
     "execution_count": 25,
     "metadata": {},
     "output_type": "execute_result"
    }
   ],
   "source": [
    "cdf[5]"
   ]
  },
  {
   "cell_type": "markdown",
   "metadata": {},
   "source": [
    "**Exercise:** If you roll three dice, what is the probability of getting 15 or more?"
   ]
  },
  {
   "cell_type": "code",
   "execution_count": 26,
   "metadata": {
    "collapsed": false,
    "jupyter": {
     "outputs_hidden": false
    }
   },
   "outputs": [
    {
     "data": {
      "text/plain": [
       "0.09259259259259256"
      ]
     },
     "execution_count": 26,
     "metadata": {},
     "output_type": "execute_result"
    }
   ],
   "source": [
    "# Solution\n",
    "\n",
    "1 - cdf[14]"
   ]
  },
  {
   "cell_type": "markdown",
   "metadata": {},
   "source": [
    "## Reverse lookup\n",
    "\n",
    "You might wonder why I represent a `Cdf` with two lists rather than a dictionary.  After all, a dictionary lookup is constant time and bisection search is logarithmic.  The reason is that we often want to use a `Cdf` to do a reverse lookup; that is, given a probability, we would like to find the corresponding value.  With two sorted lists, a reverse lookup has the same performance as a forward loopup, $O(\\log n)$.\n",
    "\n",
    "Here's the implementation:"
   ]
  },
  {
   "cell_type": "code",
   "execution_count": 27,
   "metadata": {
    "collapsed": false,
    "jupyter": {
     "outputs_hidden": false
    }
   },
   "outputs": [
    {
     "name": "stdout",
     "output_type": "stream",
     "text": [
      "    def Values(self, ps=None):\n",
      "        \"\"\"Returns InverseCDF(p), the value that corresponds to probability p.\n",
      "\n",
      "        If ps is not provided, returns all values.\n",
      "\n",
      "        Args:\n",
      "            ps: NumPy array of numbers in the range [0, 1]\n",
      "\n",
      "        Returns:\n",
      "            NumPy array of values\n",
      "        \"\"\"\n",
      "        if ps is None:\n",
      "            return self.xs\n",
      "\n",
      "        ps = np.asarray(ps)\n",
      "        if np.any(ps < 0) or np.any(ps > 1):\n",
      "            raise ValueError(\"Probability p must be in range [0, 1]\")\n",
      "\n",
      "        index = np.searchsorted(self.ps, ps, side=\"left\")\n",
      "        return self.xs[index]\n"
     ]
    }
   ],
   "source": [
    "show_code(Cdf.Values)"
   ]
  },
  {
   "cell_type": "markdown",
   "metadata": {},
   "source": [
    "And here's an example that finds the 10th, 50th, and 90th percentiles:"
   ]
  },
  {
   "cell_type": "code",
   "execution_count": 28,
   "metadata": {
    "collapsed": false,
    "jupyter": {
     "outputs_hidden": false
    }
   },
   "outputs": [
    {
     "data": {
      "text/plain": [
       "array([ 7, 10, 14])"
      ]
     },
     "execution_count": 28,
     "metadata": {},
     "output_type": "execute_result"
    }
   ],
   "source": [
    "cdf.Values((0.1, 0.5, 0.9))"
   ]
  },
  {
   "cell_type": "markdown",
   "metadata": {},
   "source": [
    "The `Cdf` representation is also good at generating random samples, by choosing a probability uniformly from 0 to 1 and finding the corresponding value.  Here's the method `Cdf` provides:"
   ]
  },
  {
   "cell_type": "code",
   "execution_count": 29,
   "metadata": {
    "collapsed": false,
    "jupyter": {
     "outputs_hidden": false
    }
   },
   "outputs": [
    {
     "name": "stdout",
     "output_type": "stream",
     "text": [
      "    def Sample(self, n):\n",
      "        \"\"\"Generates a random sample from this distribution.\n",
      "\n",
      "        n: int length of the sample\n",
      "        returns: NumPy array\n",
      "        \"\"\"\n",
      "        ps = np.random.random(n)  # pylint: disable=no-member\n",
      "        return self.ValueArray(ps)\n"
     ]
    }
   ],
   "source": [
    "show_code(Cdf.Sample)"
   ]
  },
  {
   "cell_type": "markdown",
   "metadata": {},
   "source": [
    "The result is a NumPy array with the given `shape`.  The time to generate each random choice is $O(\\log n)$\n",
    "\n",
    "Here are some examples that use it."
   ]
  },
  {
   "cell_type": "code",
   "execution_count": 30,
   "metadata": {
    "collapsed": false,
    "jupyter": {
     "outputs_hidden": false
    }
   },
   "outputs": [
    {
     "data": {
      "text/plain": [
       "array([8])"
      ]
     },
     "execution_count": 30,
     "metadata": {},
     "output_type": "execute_result"
    }
   ],
   "source": [
    "cdf.Sample(1)"
   ]
  },
  {
   "cell_type": "code",
   "execution_count": 31,
   "metadata": {
    "collapsed": false,
    "jupyter": {
     "outputs_hidden": false
    }
   },
   "outputs": [
    {
     "data": {
      "text/plain": [
       "array([14, 10, 11, 11, 12,  9])"
      ]
     },
     "execution_count": 31,
     "metadata": {},
     "output_type": "execute_result"
    }
   ],
   "source": [
    "cdf.Sample(6)"
   ]
  },
  {
   "cell_type": "code",
   "execution_count": 32,
   "metadata": {
    "collapsed": false,
    "jupyter": {
     "outputs_hidden": false
    }
   },
   "outputs": [
    {
     "data": {
      "text/plain": [
       "array([[ 5, 12],\n",
       "       [11, 12]])"
      ]
     },
     "execution_count": 32,
     "metadata": {},
     "output_type": "execute_result"
    }
   ],
   "source": [
    "cdf.Sample((2, 2))"
   ]
  },
  {
   "cell_type": "markdown",
   "metadata": {},
   "source": [
    "**Exercise:** Write a function that takes a `Cdf` object and returns the interquartile range (IQR), which is the difference between the 75th and 25th percentiles."
   ]
  },
  {
   "cell_type": "code",
   "execution_count": 33,
   "metadata": {
    "collapsed": false,
    "jupyter": {
     "outputs_hidden": false
    }
   },
   "outputs": [
    {
     "data": {
      "text/plain": [
       "5"
      ]
     },
     "execution_count": 33,
     "metadata": {},
     "output_type": "execute_result"
    }
   ],
   "source": [
    "# Solution\n",
    "\n",
    "def iqr(cdf):\n",
    "    values = cdf.Values((0.25, 0.75))\n",
    "    return np.diff(values)[0]\n",
    "\n",
    "iqr(cdf)"
   ]
  },
  {
   "cell_type": "markdown",
   "metadata": {},
   "source": [
    "## Max and min\n",
    "\n",
    "The `Cdf` representation is particularly good for finding the distribution of a maximum.  For example, in Dungeons and Dragons, players create characters with random properties like strength and intelligence.  The properties are generated by rolling three dice and adding them, so the CDF for each property is the `Cdf` we used in this example.  Each character has 6 properties, so we might wonder what the distribution is for the best of the six.\n",
    "\n",
    "Here's the method that computes it:"
   ]
  },
  {
   "cell_type": "code",
   "execution_count": 34,
   "metadata": {
    "collapsed": false,
    "jupyter": {
     "outputs_hidden": false
    }
   },
   "outputs": [
    {
     "name": "stdout",
     "output_type": "stream",
     "text": [
      "    def Max(self, k):\n",
      "        \"\"\"Computes the CDF of the maximum of k selections from this dist.\n",
      "\n",
      "        k: int\n",
      "\n",
      "        returns: new Cdf\n",
      "        \"\"\"\n",
      "        cdf = self.Copy()\n",
      "        cdf.ps **= k\n",
      "        return cdf\n"
     ]
    }
   ],
   "source": [
    "show_code(Cdf.Max)"
   ]
  },
  {
   "cell_type": "markdown",
   "metadata": {},
   "source": [
    "To get the distribution of the maximum, we make a new `Cdf` with the same values as the original, and with the `ps` raised to the `k`th power.  Simple, right?\n",
    "\n",
    "To see how it works, suppose you generate six properties and your best is only a 10.  That's unlucky, but you might wonder how unlucky.  So, what is the chance of rolling 3 dice six times, and never getting anything better than 10?\n",
    "\n",
    "Well, that means that all six values were 10 or less.  The probability that each of them is 10 or less is $CDF(10)$, because that's what the CDF means.  So the probability that all 6 are 10 or less is $CDF(10)^6$.  \n",
    "\n",
    "Now we can generalize that by replacing $10$ with any value of $x$ and $6$ with any integer $k$.  The result is $CDF(x)^k$, which is the probability that all $k$ rolls are $x$ or less, and that is the CDF of the maximum.\n",
    "\n",
    "Here's how we use `Cdf.Max`:"
   ]
  },
  {
   "cell_type": "code",
   "execution_count": 35,
   "metadata": {
    "collapsed": false,
    "jupyter": {
     "outputs_hidden": false
    }
   },
   "outputs": [
    {
     "data": {
      "image/png": "[encoded data removed]",
      "text/plain": [
       "<Figure size 432x288 with 1 Axes>"
      ]
     },
     "metadata": {
      "needs_background": "light"
     },
     "output_type": "display_data"
    }
   ],
   "source": [
    "best = cdf.Max(6)\n",
    "thinkbayes.thinkplot.Cdf(best);"
   ]
  },
  {
   "cell_type": "code",
   "execution_count": 36,
   "metadata": {
    "collapsed": false,
    "jupyter": {
     "outputs_hidden": false
    }
   },
   "outputs": [
    {
     "data": {
      "text/plain": [
       "0.01562500000000002"
      ]
     },
     "execution_count": 36,
     "metadata": {},
     "output_type": "execute_result"
    }
   ],
   "source": [
    "best[10]"
   ]
  },
  {
   "cell_type": "markdown",
   "metadata": {},
   "source": [
    "So the chance of generating a character whose best property is 10 is less than 2%."
   ]
  },
  {
   "cell_type": "markdown",
   "metadata": {},
   "source": [
    "**Exercise:**  Write a function that takes a CDF and returns the CDF of the *minimum* of `k` values.\n",
    "\n",
    "Hint: If the minimum is less than $x$, that means all `k` values must be less than $x$."
   ]
  },
  {
   "cell_type": "code",
   "execution_count": 37,
   "metadata": {
    "collapsed": false,
    "jupyter": {
     "outputs_hidden": false
    }
   },
   "outputs": [
    {
     "data": {
      "image/png": "[encoded data removed]",
      "text/plain": [
       "<Figure size 432x288 with 1 Axes>"
      ]
     },
     "metadata": {
      "needs_background": "light"
     },
     "output_type": "display_data"
    }
   ],
   "source": [
    "# Solution\n",
    "\n",
    "def Min(cdf, k):\n",
    "    return Cdf(cdf.xs, 1 - (1-cdf.ps)**k)\n",
    "\n",
    "worst = Min(cdf, 6)\n",
    "thinkbayes.thinkplot.Cdf(worst);"
   ]
  },
  {
   "cell_type": "markdown",
   "metadata": {},
   "source": [
    "## Characteristic function\n",
    "\n",
    "At this point we've answered all the questions on the list, but I want to come back to addition, because the algorithm we used with the `Pmf` representation is not as efficient as it could be.  It enumerates all pairs of outcomes, so if there are $n$ values in each `Pmf`, the run time is $O(n^2)$.  We can do better.\n",
    "\n",
    "The key is the **characteristic function**, which is the Fourier transform (FT) of the PMF.  If you are familiar with the Fourier transform and the Convolution Theorem, keep reading.  Otherwise, skip the rest of this cell and get to the code, which is much simpler than the explanation.\n",
    "\n",
    "### Details for people who know about convolution\n",
    "\n",
    "If you are familiar with the FT in the context of spectral analysis of signals, you might wonder why we would possibly want to compute the FT of a PMF.  The reason is the Convolution Theorem.\n",
    "\n",
    "It turns out that the algorithm we used to \"add\" two `Pmf` objects is a form of convolution.  To see how that works, suppose we are computing the distribution of $Z = X+Y$.  To make things concrete, let's compute the probability that the sum, $Z$ is 5.  To do that, we can enumerate all possible values of $X$ like this:\n",
    "\n",
    "$Prob(Z=5) = \\sum_x Prob(X=x) \\cdot Prob(Y=5-x)$\n",
    "\n",
    "Now we can write each of those probabilities in terms of the PMF of $X$, $Y$, and $Z$:\n",
    "\n",
    "$PMF_Z(5) = \\sum_x PMF_X(x) \\cdot PMF_Y(5-x)$\n",
    "\n",
    "And now we can generalize by replacing 5 with any value of $z$:\n",
    "\n",
    "$PMF_Z(z) = \\sum_x PMF_X(x) \\cdot PMF_Y(z-x)$\n",
    "\n",
    "You might recognize that computation as convolution, denoted with the operator $\\ast$.  \n",
    "\n",
    "$PMF_Z = PMF_X \\ast PMF_Y$\n",
    "\n",
    "Now, according to the Convolution Theorem:\n",
    "\n",
    "$FT(PMF_X \\ast Y) = FT(PMF_X) \\cdot FT(PMF_Y)$\n",
    "\n",
    "Or, taking the inverse FT of both sides:\n",
    "\n",
    "$PMF_X \\ast PMF_Y = IFT(FT(PMF_X) \\cdot FT(PMF_Y))$\n",
    "\n",
    "In words, to compute the convolution of $PMF_X$ and $PMF_Y$, we can compute the FT of $PMF_X$ and $PMF_Y$ and multiply them together, then compute the inverse FT of the result.\n",
    "\n",
    "Let's see how that works.  Here's a class that represents a characteristic function."
   ]
  },
  {
   "cell_type": "code",
   "execution_count": 38,
   "metadata": {
    "collapsed": false,
    "jupyter": {
     "outputs_hidden": false
    }
   },
   "outputs": [],
   "source": [
    "import matplotlib.pyplot as plt\n",
    "\n",
    "class CharFunc:\n",
    "    \n",
    "    def __init__(self, hs):\n",
    "        \"\"\"Initializes the CF.\n",
    "        \n",
    "        hs: NumPy array of complex\n",
    "        \"\"\"\n",
    "        self.hs = hs\n",
    "\n",
    "    def __mul__(self, other):\n",
    "        \"\"\"Computes the elementwise product of two CFs.\"\"\"\n",
    "        return CharFunc(self.hs * other.hs)\n",
    "        \n",
    "    def make_pmf(self, thresh=1e-11):\n",
    "        \"\"\"Converts a CF to a PMF.\n",
    "        \n",
    "        Values with probabilities below `thresh` are dropped.\n",
    "        \"\"\"\n",
    "        ps = ifft(self.hs)\n",
    "        d = dict((i, p) for i, p in enumerate(ps.real) if p > thresh)\n",
    "        return Pmf(d)\n",
    "    \n",
    "    def plot_cf(self, **options):\n",
    "        \"\"\"Plots the real and imaginary parts of the CF.\"\"\"\n",
    "        n = len(self.hs)\n",
    "        xs = np.arange(-n//2, n//2)\n",
    "        hs = np.roll(self.hs, len(self.hs) // 2)\n",
    "        plt.plot(xs, hs.real, label='real', **options)\n",
    "        plt.plot(xs, hs.imag, label='imag', **options)\n",
    "        plt.legend()"
   ]
  },
  {
   "cell_type": "markdown",
   "metadata": {},
   "source": [
    "The attribute, `hs`, is the Fourier transform of the `Pmf`, represented as a NumPy array of complex numbers.\n",
    "\n",
    "The following function takes a dictionary that maps from outcomes to their probabilities, and computes the FT of the PDF:"
   ]
  },
  {
   "cell_type": "code",
   "execution_count": 39,
   "metadata": {},
   "outputs": [],
   "source": [
    "def compute_fft(d, n=256):\n",
    "    \"\"\"Computes the FFT of a PMF of integers.\n",
    "    \n",
    "    Values must be integers less than `n`.\n",
    "    \"\"\"\n",
    "    xs, freqs = zip(*d.items())\n",
    "    ps = np.zeros(256)\n",
    "    ps[xs,] = freqs\n",
    "    hs = fft(ps)\n",
    "    return hs"
   ]
  },
  {
   "cell_type": "markdown",
   "metadata": {},
   "source": [
    "`fft` computes the Fast Fourier Transform (FFT), which is called \"fast\" because the run time is $O(n \\log n)$.\n",
    "\n",
    "Here's what the characteristic function looks like for the sum of three dice (plotting the real and imaginary parts of `hs`):"
   ]
  },
  {
   "cell_type": "code",
   "execution_count": 40,
   "metadata": {
    "collapsed": false,
    "jupyter": {
     "outputs_hidden": false
    }
   },
   "outputs": [
    {
     "data": {
      "image/png": "[encoded data removed]",
      "text/plain": [
       "<Figure size 432x288 with 1 Axes>"
      ]
     },
     "metadata": {
      "needs_background": "light"
     },
     "output_type": "display_data"
    }
   ],
   "source": [
    "hs = compute_fft(thrice.d)\n",
    "cf = CharFunc(hs)\n",
    "cf.plot_cf()"
   ]
  },
  {
   "cell_type": "markdown",
   "metadata": {},
   "source": [
    "The characteristic function contains all of the information from the `Pmf`, but it is encoded in a form that is hard to interpret.  However, if we are given a characteristic function, we can find the corresponding `Pmf`.\n",
    "\n",
    "`CharFunc` provides `make_pmf`, which uses the inverse FFT to get back to the `Pmf` representation.  Here's the code:"
   ]
  },
  {
   "cell_type": "code",
   "execution_count": 41,
   "metadata": {
    "collapsed": false,
    "jupyter": {
     "outputs_hidden": false
    }
   },
   "outputs": [
    {
     "name": "stdout",
     "output_type": "stream",
     "text": [
      "    def make_pmf(self, thresh=1e-11):\n",
      "        \"\"\"Converts a CF to a PMF.\n",
      "        \n",
      "        Values with probabilities below `thresh` are dropped.\n",
      "        \"\"\"\n",
      "        ps = ifft(self.hs)\n",
      "        d = dict((i, p) for i, p in enumerate(ps.real) if p > thresh)\n",
      "        return Pmf(d)\n"
     ]
    }
   ],
   "source": [
    "show_code(CharFunc.make_pmf)"
   ]
  },
  {
   "cell_type": "markdown",
   "metadata": {},
   "source": [
    "And here's an example:"
   ]
  },
  {
   "cell_type": "code",
   "execution_count": 42,
   "metadata": {
    "collapsed": false,
    "jupyter": {
     "outputs_hidden": false
    }
   },
   "outputs": [
    {
     "data": {
      "image/png": "[encoded data removed]",
      "text/plain": [
       "<Figure size 432x288 with 1 Axes>"
      ]
     },
     "metadata": {
      "needs_background": "light"
     },
     "output_type": "display_data"
    }
   ],
   "source": [
    "thinkbayes.thinkplot.Pdf(cf.make_pmf())"
   ]
  },
  {
   "cell_type": "markdown",
   "metadata": {},
   "source": [
    "Now we can use the characteristic function to compute a convolution.  `CharFunc` provides `__mul__`, which multiplies the `hs` elementwise and returns a new `CharFunc` object:"
   ]
  },
  {
   "cell_type": "code",
   "execution_count": 43,
   "metadata": {
    "collapsed": false,
    "jupyter": {
     "outputs_hidden": false
    }
   },
   "outputs": [
    {
     "name": "stdout",
     "output_type": "stream",
     "text": [
      "    def __mul__(self, other):\n",
      "        \"\"\"Computes the elementwise product of two CFs.\"\"\"\n",
      "        return CharFunc(self.hs * other.hs)\n"
     ]
    }
   ],
   "source": [
    "show_code(CharFunc.__mul__)"
   ]
  },
  {
   "cell_type": "markdown",
   "metadata": {},
   "source": [
    "And here's how we can use it to compute the distribution of the sum of 6 dice."
   ]
  },
  {
   "cell_type": "code",
   "execution_count": 44,
   "metadata": {
    "collapsed": false,
    "jupyter": {
     "outputs_hidden": false
    }
   },
   "outputs": [
    {
     "data": {
      "image/png": "[encoded data removed]",
      "text/plain": [
       "<Figure size 432x288 with 1 Axes>"
      ]
     },
     "metadata": {
      "needs_background": "light"
     },
     "output_type": "display_data"
    }
   ],
   "source": [
    "sixth = (cf * cf).make_pmf()\n",
    "thinkbayes.thinkplot.Pdf(sixth)"
   ]
  },
  {
   "cell_type": "markdown",
   "metadata": {},
   "source": [
    "Here are the probabilities, mean, and variance."
   ]
  },
  {
   "cell_type": "code",
   "execution_count": 45,
   "metadata": {
    "collapsed": false,
    "jupyter": {
     "outputs_hidden": false
    }
   },
   "outputs": [
    {
     "name": "stdout",
     "output_type": "stream",
     "text": [
      "6 2.143347050755041e-05\n",
      "7 0.00012860082304526907\n",
      "8 0.00045010288065844045\n",
      "9 0.001200274348422498\n",
      "10 0.0027006172839506206\n",
      "11 0.005401234567901236\n",
      "12 0.00977366255144033\n",
      "13 0.016203703703703706\n",
      "14 0.02488425925925926\n",
      "15 0.03570816186556927\n",
      "16 0.048161008230452676\n",
      "17 0.061213991769547324\n",
      "18 0.07353823731138545\n",
      "19 0.08371913580246915\n",
      "20 0.09047067901234568\n",
      "21 0.09284979423868313\n",
      "22 0.09047067901234568\n",
      "23 0.08371913580246915\n",
      "24 0.07353823731138548\n",
      "25 0.061213991769547324\n",
      "26 0.048161008230452676\n",
      "27 0.03570816186556927\n",
      "28 0.02488425925925926\n",
      "29 0.016203703703703706\n",
      "30 0.00977366255144033\n",
      "31 0.0054012345679012325\n",
      "32 0.002700617283950618\n",
      "33 0.0012002743484224973\n",
      "34 0.00045010288065843937\n",
      "35 0.0001286008230452637\n",
      "36 2.1433470507548873e-05\n"
     ]
    }
   ],
   "source": [
    "sixth.Print()"
   ]
  },
  {
   "cell_type": "code",
   "execution_count": 46,
   "metadata": {
    "collapsed": false,
    "jupyter": {
     "outputs_hidden": false
    }
   },
   "outputs": [
    {
     "data": {
      "text/plain": [
       "(20.999999999999996, 17.500000000000004)"
      ]
     },
     "execution_count": 46,
     "metadata": {},
     "output_type": "execute_result"
    }
   ],
   "source": [
    "sixth.Mean(), sixth.Var()"
   ]
  },
  {
   "cell_type": "markdown",
   "metadata": {},
   "source": [
    "This might seem like a roundabout way to compute a convolution, but it is efficient.  The time to Compute the `CharFunc` objects is $O(n \\log n)$.  Multiplying them together is $O(n)$.  And converting back to a `Pmf` is $O(n \\log n)$.\n",
    "\n",
    "So the whole process is $O(n \\log n)$, which is better than `Pmf.__add__`, which is $O(n^2)$."
   ]
  },
  {
   "cell_type": "markdown",
   "metadata": {},
   "source": [
    "**Exercise:** Plot the magnitude of `cf.hs` using `np.abs`.  What does that shape look like?\n",
    "\n",
    "Hint: it might be clearer if you us `np.roll` to put the peak of the CF in the middle."
   ]
  },
  {
   "cell_type": "code",
   "execution_count": 47,
   "metadata": {
    "collapsed": false,
    "jupyter": {
     "outputs_hidden": false
    }
   },
   "outputs": [
    {
     "data": {
      "image/png": "[encoded data removed]",
      "text/plain": [
       "<Figure size 432x288 with 1 Axes>"
      ]
     },
     "metadata": {
      "needs_background": "light"
     },
     "output_type": "display_data"
    }
   ],
   "source": [
    "#Solution\n",
    "\n",
    "n = len(cf.hs)\n",
    "mags = np.abs(cf.hs)\n",
    "plt.plot(np.roll(mags, n//2))\n",
    "None\n",
    "\n",
    "# The result approximates a Gaussian curve because \n",
    "# the PMF is approximately Gaussian and the FT of a \n",
    "# Gaussian is also Gaussian"
   ]
  },
  {
   "cell_type": "markdown",
   "metadata": {},
   "source": [
    "## Distributions\n",
    "\n",
    "Finally, let's back to the question we started with: *what is a distribution?*\n",
    "\n",
    "I've said that `Pmf`, `Cdf`, and `CharFunc` are different ways to represent the same information.  For the questions we want to answer, some representations are better than others.  But how should we represent the distribution itself?\n",
    "\n",
    "One option is to treat each representation as a **mixin**; that is, a class that provides a set of capabilities.  A distribution inherits all of the capabilities from all of the representations.  Here's a class that shows what I mean:"
   ]
  },
  {
   "cell_type": "code",
   "execution_count": 48,
   "metadata": {
    "collapsed": false,
    "jupyter": {
     "outputs_hidden": false
    }
   },
   "outputs": [],
   "source": [
    "class Dist(Pmf, Cdf, CharFunc):\n",
    "    \n",
    "    def __init__(self, d):\n",
    "        \"\"\"Initializes the Dist.\n",
    "        \n",
    "        Calls all three __init__ methods.\n",
    "        \"\"\"\n",
    "        Pmf.__init__(self, d)\n",
    "        Cdf.__init__(self, d)\n",
    "        CharFunc.__init__(self, compute_fft(d))\n",
    "        \n",
    "    def __add__(self, other):\n",
    "        \"\"\"Computes the distribution of the sum using Pmf.__add__.\n",
    "        \"\"\"\n",
    "        pmf = Pmf.__add__(self, other)\n",
    "        return Dist(pmf.d)\n",
    "    \n",
    "    def __mul__(self, other):\n",
    "        \"\"\"Computes the distribution of the sum using CharFunc.__mul__.\n",
    "        \"\"\"\n",
    "        pmf = CharFunc.__mul__(self, other).make_pmf()\n",
    "        return Dist(pmf.d)"
   ]
  },
  {
   "cell_type": "markdown",
   "metadata": {},
   "source": [
    "When you create a `Dist`, you provide a dictionary of values and probabilities.\n",
    "\n",
    "`Dist.__init__` calls the other three `__init__` methods to create the `Pmf`, `Cdf`, and `CharFunc` representations.  The result is an object that has all the attributes and methods of the three representations.\n",
    "\n",
    "As an example, I'll create a `Dist` that represents the sum of six dice:"
   ]
  },
  {
   "cell_type": "code",
   "execution_count": 49,
   "metadata": {
    "collapsed": false,
    "jupyter": {
     "outputs_hidden": false
    }
   },
   "outputs": [
    {
     "data": {
      "image/png": "[encoded data removed]",
      "text/plain": [
       "<Figure size 432x288 with 1 Axes>"
      ]
     },
     "metadata": {
      "needs_background": "light"
     },
     "output_type": "display_data"
    }
   ],
   "source": [
    "dist = Dist(sixth.d)\n",
    "thinkbayes.thinkplot.Pdf(dist)"
   ]
  },
  {
   "cell_type": "markdown",
   "metadata": {},
   "source": [
    "We inherit `__getitem__` from `Pmf`, so we can look up the probability of a value."
   ]
  },
  {
   "cell_type": "code",
   "execution_count": 50,
   "metadata": {
    "collapsed": false,
    "jupyter": {
     "outputs_hidden": false
    }
   },
   "outputs": [
    {
     "data": {
      "text/plain": [
       "0.09284979423868313"
      ]
     },
     "execution_count": 50,
     "metadata": {},
     "output_type": "execute_result"
    }
   ],
   "source": [
    "dist[21]"
   ]
  },
  {
   "cell_type": "markdown",
   "metadata": {},
   "source": [
    "We also get mean and variance from `Pmf`:"
   ]
  },
  {
   "cell_type": "code",
   "execution_count": 51,
   "metadata": {
    "collapsed": false,
    "jupyter": {
     "outputs_hidden": false
    }
   },
   "outputs": [
    {
     "data": {
      "text/plain": [
       "(20.999999999999996, 17.500000000000004)"
      ]
     },
     "execution_count": 51,
     "metadata": {},
     "output_type": "execute_result"
    }
   ],
   "source": [
    "dist.Mean(), dist.Var()"
   ]
  },
  {
   "cell_type": "markdown",
   "metadata": {},
   "source": [
    "But we can also use methods from `Cdf`, like `ValueArray`:"
   ]
  },
  {
   "cell_type": "code",
   "execution_count": 52,
   "metadata": {
    "collapsed": false,
    "jupyter": {
     "outputs_hidden": false
    }
   },
   "outputs": [
    {
     "data": {
      "text/plain": [
       "array([18, 21, 24])"
      ]
     },
     "execution_count": 52,
     "metadata": {},
     "output_type": "execute_result"
    }
   ],
   "source": [
    "dist.ValueArray((0.25, 0.5, 0.75))"
   ]
  },
  {
   "cell_type": "markdown",
   "metadata": {},
   "source": [
    "And `Probs`"
   ]
  },
  {
   "cell_type": "code",
   "execution_count": 53,
   "metadata": {
    "collapsed": false,
    "jupyter": {
     "outputs_hidden": false
    }
   },
   "outputs": [
    {
     "data": {
      "text/plain": [
       "[0.07353823731138545, 0.09284979423868313, 0.07353823731138548]"
      ]
     },
     "execution_count": 53,
     "metadata": {},
     "output_type": "execute_result"
    }
   ],
   "source": [
    "dist.Probs((18, 21, 24))"
   ]
  },
  {
   "cell_type": "markdown",
   "metadata": {},
   "source": [
    "And `Sample`"
   ]
  },
  {
   "cell_type": "code",
   "execution_count": 54,
   "metadata": {
    "collapsed": false,
    "jupyter": {
     "outputs_hidden": false
    }
   },
   "outputs": [
    {
     "data": {
      "text/plain": [
       "array([12, 25, 29, 30, 25, 16, 20, 21, 23, 25])"
      ]
     },
     "execution_count": 54,
     "metadata": {},
     "output_type": "execute_result"
    }
   ],
   "source": [
    "dist.Sample(10)"
   ]
  },
  {
   "cell_type": "code",
   "execution_count": 55,
   "metadata": {
    "collapsed": false,
    "jupyter": {
     "outputs_hidden": false
    }
   },
   "outputs": [
    {
     "data": {
      "image/png": "[encoded data removed]",
      "text/plain": [
       "<Figure size 432x288 with 1 Axes>"
      ]
     },
     "metadata": {
      "needs_background": "light"
     },
     "output_type": "display_data"
    }
   ],
   "source": [
    "thinkbayes.thinkplot.Cdf(dist.Max(6));"
   ]
  },
  {
   "cell_type": "markdown",
   "metadata": {},
   "source": [
    "`Dist.__add__` uses `Pmf.__add__`, which performs convolution the slow way:"
   ]
  },
  {
   "cell_type": "code",
   "execution_count": 56,
   "metadata": {
    "collapsed": false,
    "jupyter": {
     "outputs_hidden": false
    }
   },
   "outputs": [
    {
     "data": {
      "image/png": "[encoded data removed]",
      "text/plain": [
       "<Figure size 432x288 with 1 Axes>"
      ]
     },
     "metadata": {
      "needs_background": "light"
     },
     "output_type": "display_data"
    }
   ],
   "source": [
    "twelfth = dist + dist\n",
    "thinkbayes.thinkplot.Pdf(twelfth)"
   ]
  },
  {
   "cell_type": "code",
   "execution_count": 57,
   "metadata": {
    "collapsed": false,
    "jupyter": {
     "outputs_hidden": false
    }
   },
   "outputs": [
    {
     "data": {
      "text/plain": [
       "41.999999999999986"
      ]
     },
     "execution_count": 57,
     "metadata": {},
     "output_type": "execute_result"
    }
   ],
   "source": [
    "twelfth.Mean()"
   ]
  },
  {
   "cell_type": "markdown",
   "metadata": {},
   "source": [
    "`Dist.__mul__` uses `CharFunc.__mul__`, which performs convolution the fast way."
   ]
  },
  {
   "cell_type": "code",
   "execution_count": 58,
   "metadata": {
    "collapsed": false,
    "jupyter": {
     "outputs_hidden": false
    }
   },
   "outputs": [
    {
     "data": {
      "image/png": "[encoded data removed]",
      "text/plain": [
       "<Figure size 432x288 with 1 Axes>"
      ]
     },
     "metadata": {
      "needs_background": "light"
     },
     "output_type": "display_data"
    }
   ],
   "source": [
    "twelfth_fft = dist * dist\n",
    "thinkbayes.thinkplot.Pdf(twelfth_fft)"
   ]
  },
  {
   "cell_type": "code",
   "execution_count": 59,
   "metadata": {
    "collapsed": false,
    "jupyter": {
     "outputs_hidden": false
    }
   },
   "outputs": [
    {
     "data": {
      "text/plain": [
       "41.99999999999998"
      ]
     },
     "execution_count": 59,
     "metadata": {},
     "output_type": "execute_result"
    }
   ],
   "source": [
    "twelfth_fft.Mean()"
   ]
  },
  {
   "cell_type": "markdown",
   "metadata": {},
   "source": [
    "Either way, we get the answer, which is 42."
   ]
  },
  {
   "cell_type": "markdown",
   "metadata": {},
   "source": [
    "## Summary\n",
    "\n",
    "Abstractly, a distribution is an entity that can answer questions about the outcomes of random variables and their probabilities.  There are many ways to represent a distribution; each representation is equivalent to the others in the sense that they contain the same information, and you can convert from any of them to the others.  \n",
    "\n",
    "Some representations make it easy and efficient to answer some questions, but none of the representations is best for all of the questions.\n",
    "\n",
    "In my implementation, a `Dist` object has the attributes and methods of all representations.  From a software engineering point of view, that might not be the best design, but it is meant to illustrate what it means to be a distribution.\n",
    "\n",
    "In short, if you give me any representation of a distribution, you have told me everything I need to know to answer questions about the possible outcomes and their probabilities.  Converting from one representation to another is mostly a matter of convenience and computational efficiency.\n",
    "\n",
    "Conversely, if you are trying to find the distribution of a random variable, you can do it by computing whichever representation is easiest to figure out."
   ]
  },
  {
   "cell_type": "code",
   "execution_count": null,
   "metadata": {},
   "outputs": [],
   "source": []
  }
 ],
 "metadata": {
  "kernelspec": {
   "display_name": "Python 3",
   "language": "python",
   "name": "python3"
  },
  "language_info": {
   "codemirror_mode": {
    "name": "ipython",
    "version": 3
   },
   "file_extension": ".py",
   "mimetype": "text/x-python",
   "name": "python",
   "nbconvert_exporter": "python",
   "pygments_lexer": "ipython3",
   "version": "3.8.0"
  }
 },
 "nbformat": 4,
 "nbformat_minor": 4
}
