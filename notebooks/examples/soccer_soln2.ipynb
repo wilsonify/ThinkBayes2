{
 "cells": [
  {
   "cell_type": "markdown",
   "metadata": {},
   "source": [
    "The World Cup Problem: Germany v. Argentina\n",
    "-------------------------------------------\n",
    "\n",
    "Allen Downey\n",
    "\n",
    "This notebook contains a solution to a problem I posed in my Bayesian statistics class:\n",
    "\n",
    "> In the final match of the 2014 FIFA World Cup, Germany defeated Argentina 1-0.  How much evidence \n",
    "> does this victory provide that Germany had the better team?  What is the probability that Germany\n",
    "> would win a rematch?\n",
    "\n",
    "Scoring in games like soccer and hockey can be (reasonably) well modeled by a Poisson process, which assumes that each team, against a given opponent, will score goals at some goal-scoring rate, $\\lambda$, and that this rate is stationary; in other words, the probability of scoring a goal is about the same at any point during the game.\n",
    "\n",
    "Based on this modeling decision, we can answer the questions by\n",
    "\n",
    "1. Defining a prior distribution for each team's goal-scoring rate against the other,\n",
    "2. Updating the prior based on the outcome of the game,\n",
    "3. Using the posterior distributions to compute the probability that Germany's goal-scoring rate is higher.\n",
    "4. Generating a predictive distribution for the number of goals each team would score in a rematch.\n",
    "\n",
    "My solution uses the ThinkBayes2 framework, which is described in [Think Bayes](http://thinkbayes.com), and summarized in [this notebook](http://nbviewer.ipython.org/github/AllenDowney/ThinkBayes2/blob/master/code/framework.ipynb).\n",
    "\n",
    "I'll start with Step 2.\n",
    "\n",
    "### Step 2: Updating\n",
    "\n",
    "If goal-scoring is a Poisson process, the distribution of goals per game is Poisson with parameter $\\lambda$.  To compute the distribution of $\\lambda$ we can define a new class that inherits from `thinkbayes2.Suite` and provides an appropriate `Likelihood` function:"
   ]
  },
  {
   "cell_type": "code",
   "execution_count": 10,
   "metadata": {},
   "outputs": [],
   "source": [
    "import thinkbayes\n",
    "\n",
    "class Soccer(thinkbayes.Suite):\n",
    "    \"\"\"Represents hypotheses about goal-scoring rates.\"\"\"\n",
    "\n",
    "    def likelihood(self, data, hypo):\n",
    "        \"\"\"Computes the likelihood of the data under the hypothesis.\n",
    "\n",
    "        hypo: goal rate in goals per game\n",
    "        data: interarrival time in minutes\n",
    "        \"\"\"\n",
    "        goals = data\n",
    "        lam = hypo\n",
    "        like = thinkbayes.eval_poisson_pmf(goals, lam)\n",
    "        return like"
   ]
  },
  {
   "cell_type": "markdown",
   "metadata": {},
   "source": [
    "`Likelihood` computes the likelihood of `data` given `hypo`, where `data` is an observed number of goals, and `hypo` is a hypothetical goal-scoring rate in goals per game.  We can compute the likelihood of the data by evaluating the Poisson probability mass function (PMF).\n",
    "\n",
    "Now we can get back to Step 1.\n",
    "\n",
    "### Step 1: Constructing the prior\n",
    "\n",
    "Before the game starts, what should we believe about each team's goal scoring rate against each other?  We could use previous tournament results to construct the priors, but to keep things simple, I'll just use the average goal-scoring rate from all matches in the tournament, which was 2.67 goals per game (total for both teams).\n",
    "\n",
    "To construct the prior, I'll start with an unrealistic uniform distribution and update it with fake data until the mean matches the observed rate for a single team, 1.34 goals per game."
   ]
  },
  {
   "cell_type": "code",
   "execution_count": 11,
   "metadata": {},
   "outputs": [
    {
     "ename": "ValueError",
     "evalue": "Normalize: total probability is zero.",
     "output_type": "error",
     "traceback": [
      "\u001b[0;31m---------------------------------------------------------------------------\u001b[0m",
      "\u001b[0;31mValueError\u001b[0m                                Traceback (most recent call last)",
      "\u001b[0;32m<ipython-input-11-00f4e67ecc71>\u001b[0m in \u001b[0;36m<module>\u001b[0;34m\u001b[0m\n\u001b[1;32m      4\u001b[0m \u001b[0mhypos\u001b[0m \u001b[0;34m=\u001b[0m \u001b[0mnumpy\u001b[0m\u001b[0;34m.\u001b[0m\u001b[0mlinspace\u001b[0m\u001b[0;34m(\u001b[0m\u001b[0;36m0\u001b[0m\u001b[0;34m,\u001b[0m \u001b[0;36m12\u001b[0m\u001b[0;34m,\u001b[0m \u001b[0;36m201\u001b[0m\u001b[0;34m)\u001b[0m\u001b[0;34m\u001b[0m\u001b[0;34m\u001b[0m\u001b[0m\n\u001b[1;32m      5\u001b[0m \u001b[0msuite\u001b[0m \u001b[0;34m=\u001b[0m \u001b[0mSoccer\u001b[0m\u001b[0;34m(\u001b[0m\u001b[0mhypos\u001b[0m\u001b[0;34m)\u001b[0m\u001b[0;34m\u001b[0m\u001b[0;34m\u001b[0m\u001b[0m\n\u001b[0;32m----> 6\u001b[0;31m \u001b[0msuite\u001b[0m\u001b[0;34m.\u001b[0m\u001b[0mupdate\u001b[0m\u001b[0;34m(\u001b[0m\u001b[0;36m0.33\u001b[0m\u001b[0;34m)\u001b[0m                \u001b[0;31m# fake data chosen by trial and error to yield the observed prior mean\u001b[0m\u001b[0;34m\u001b[0m\u001b[0;34m\u001b[0m\u001b[0m\n\u001b[0m\u001b[1;32m      7\u001b[0m \u001b[0;34m\u001b[0m\u001b[0m\n\u001b[1;32m      8\u001b[0m \u001b[0mthinkplot\u001b[0m\u001b[0;34m.\u001b[0m\u001b[0mplot_pdf_line\u001b[0m\u001b[0;34m(\u001b[0m\u001b[0msuite\u001b[0m\u001b[0;34m)\u001b[0m\u001b[0;34m\u001b[0m\u001b[0;34m\u001b[0m\u001b[0m\n",
      "\u001b[0;32m~/repos/ThinkBayes2/src/think-bayes/thinkbayes/__main__.py\u001b[0m in \u001b[0;36mupdate\u001b[0;34m(self, data)\u001b[0m\n\u001b[1;32m   1388\u001b[0m             \u001b[0mlike\u001b[0m \u001b[0;34m=\u001b[0m \u001b[0mself\u001b[0m\u001b[0;34m.\u001b[0m\u001b[0mlikelihood\u001b[0m\u001b[0;34m(\u001b[0m\u001b[0mdata\u001b[0m\u001b[0;34m,\u001b[0m \u001b[0mhypo\u001b[0m\u001b[0;34m)\u001b[0m\u001b[0;34m\u001b[0m\u001b[0;34m\u001b[0m\u001b[0m\n\u001b[1;32m   1389\u001b[0m             \u001b[0mself\u001b[0m\u001b[0;34m.\u001b[0m\u001b[0mmult\u001b[0m\u001b[0;34m(\u001b[0m\u001b[0mhypo\u001b[0m\u001b[0;34m,\u001b[0m \u001b[0mlike\u001b[0m\u001b[0;34m)\u001b[0m\u001b[0;34m\u001b[0m\u001b[0;34m\u001b[0m\u001b[0m\n\u001b[0;32m-> 1390\u001b[0;31m         \u001b[0;32mreturn\u001b[0m \u001b[0mself\u001b[0m\u001b[0;34m.\u001b[0m\u001b[0mnormalize\u001b[0m\u001b[0;34m(\u001b[0m\u001b[0;34m)\u001b[0m\u001b[0;34m\u001b[0m\u001b[0;34m\u001b[0m\u001b[0m\n\u001b[0m\u001b[1;32m   1391\u001b[0m \u001b[0;34m\u001b[0m\u001b[0m\n\u001b[1;32m   1392\u001b[0m     \u001b[0;32mdef\u001b[0m \u001b[0mlog_update\u001b[0m\u001b[0;34m(\u001b[0m\u001b[0mself\u001b[0m\u001b[0;34m,\u001b[0m \u001b[0mdata\u001b[0m\u001b[0;34m)\u001b[0m\u001b[0;34m:\u001b[0m\u001b[0;34m\u001b[0m\u001b[0;34m\u001b[0m\u001b[0m\n",
      "\u001b[0;32m~/repos/ThinkBayes2/src/think-bayes/thinkbayes/__main__.py\u001b[0m in \u001b[0;36mnormalize\u001b[0;34m(self, fraction)\u001b[0m\n\u001b[1;32m    511\u001b[0m         \u001b[0mtotal\u001b[0m \u001b[0;34m=\u001b[0m \u001b[0mself\u001b[0m\u001b[0;34m.\u001b[0m\u001b[0mtotal\u001b[0m\u001b[0;34m(\u001b[0m\u001b[0;34m)\u001b[0m\u001b[0;34m\u001b[0m\u001b[0;34m\u001b[0m\u001b[0m\n\u001b[1;32m    512\u001b[0m         \u001b[0;32mif\u001b[0m \u001b[0mtotal\u001b[0m \u001b[0;34m==\u001b[0m \u001b[0;36m0\u001b[0m\u001b[0;34m:\u001b[0m\u001b[0;34m\u001b[0m\u001b[0;34m\u001b[0m\u001b[0m\n\u001b[0;32m--> 513\u001b[0;31m             \u001b[0;32mraise\u001b[0m \u001b[0mValueError\u001b[0m\u001b[0;34m(\u001b[0m\u001b[0;34m\"Normalize: total probability is zero.\"\u001b[0m\u001b[0;34m)\u001b[0m\u001b[0;34m\u001b[0m\u001b[0;34m\u001b[0m\u001b[0m\n\u001b[0m\u001b[1;32m    514\u001b[0m \u001b[0;34m\u001b[0m\u001b[0m\n\u001b[1;32m    515\u001b[0m         \u001b[0mfactor\u001b[0m \u001b[0;34m=\u001b[0m \u001b[0mfraction\u001b[0m \u001b[0;34m/\u001b[0m \u001b[0mtotal\u001b[0m\u001b[0;34m\u001b[0m\u001b[0;34m\u001b[0m\u001b[0m\n",
      "\u001b[0;31mValueError\u001b[0m: Normalize: total probability is zero."
     ]
    }
   ],
   "source": [
    "import numpy\n",
    "from thinkbayes import thinkplot\n",
    "\n",
    "hypos = numpy.linspace(0, 12, 201)\n",
    "suite = Soccer(hypos)\n",
    "suite.update(0.33)                # fake data chosen by trial and error to yield the observed prior mean\n",
    "\n",
    "thinkplot.plot_pdf_line(suite)\n",
    "suite.mean()"
   ]
  },
  {
   "cell_type": "markdown",
   "metadata": {},
   "source": [
    "According to this prior, the goal-scoring rates are always greater than zero, with the most likely value (a priori) near 0.5.  Goal scoring rates greater than 5 are considered unlikely.\n",
    "\n",
    "### Step 2: Comparing posteriors\n",
    "\n",
    "The next step is to compute the posteriors for the two teams:"
   ]
  },
  {
   "cell_type": "code",
   "execution_count": 4,
   "metadata": {},
   "outputs": [
    {
     "name": "stdout",
     "output_type": "stream",
     "text": [
      "posterior mean Germany 1.16529110336\n",
      "posterior mean Argentina 0.677218426967\n"
     ]
    }
   ],
   "source": [
    "germany = suite.Copy(label='Germany')\n",
    "argentina = suite.Copy(label='Argentina')\n",
    "germany.Update(1)\n",
    "argentina.Update(0)\n",
    "\n",
    "print('posterior mean Germany', germany.Mean())\n",
    "print('posterior mean Argentina', argentina.Mean())"
   ]
  },
  {
   "cell_type": "markdown",
   "metadata": {},
   "source": [
    "`Update` invokes the likelihood function for each hypothetical value of $\\lambda$ and updates the distribution accordingly.\n",
    "\n",
    "Since both teams scored fewer goals than the prior mean (1.4), we expect both posterior means to be lower.  Germany's posterior mean is 1.2; Argentina's is 0.7.  We can plot the posteriors:"
   ]
  },
  {
   "cell_type": "code",
   "execution_count": 5,
   "metadata": {},
   "outputs": [
    {
     "data": {
      "image/png": "[encoded data removed]",
      "text/plain": [
       "<matplotlib.figure.Figure at 0x7fcde9d1e6d0>"
      ]
     },
     "metadata": {},
     "output_type": "display_data"
    }
   ],
   "source": [
    "thinkplot.Pdf(germany)\n",
    "thinkplot.Pdf(argentina)\n",
    "thinkplot.Config(xlabel='goal-scoring rate', ylabel='probability')"
   ]
  },
  {
   "cell_type": "markdown",
   "metadata": {},
   "source": [
    "To answer the first question, \"How much evidence does this victory provide that Germany had the better team?\", we can compute the posterior probability that Germany had a higher goal-scoring rate:"
   ]
  },
  {
   "cell_type": "code",
   "execution_count": 6,
   "metadata": {},
   "outputs": [
    {
     "name": "stdout",
     "output_type": "stream",
     "text": [
      "posterior prob Germany > Argentina 0.704322830196\n"
     ]
    }
   ],
   "source": [
    "post_prob = germany > argentina\n",
    "print('posterior prob Germany > Argentina', post_prob)"
   ]
  },
  {
   "cell_type": "markdown",
   "metadata": {},
   "source": [
    "Based on the prior distributions, we would have said that Germany had a 50% chance of having the better team, or 1:1 odds.  Based on the posteriors, we would say that Germany has a 70% chance.  We can use the ratio of the prior and posterior odds to compute the Bayes factor, which measures the strength of the evidence."
   ]
  },
  {
   "cell_type": "code",
   "execution_count": 7,
   "metadata": {},
   "outputs": [
    {
     "name": "stdout",
     "output_type": "stream",
     "text": [
      "posterior odds Germany > Argentina 2.38206700457\n",
      "Bayes factor 2.38206700457\n"
     ]
    }
   ],
   "source": [
    "prior_odds = 1\n",
    "post_odds = post_prob / (1 - post_prob)\n",
    "print('posterior odds Germany > Argentina', post_odds)   \n",
    "k = post_odds / prior_odds\n",
    "print('Bayes factor', k)   "
   ]
  },
  {
   "cell_type": "markdown",
   "metadata": {},
   "source": [
    "The Bayes factor is 2.4, which is generally considered weak evidence.\n",
    "\n",
    "Now on to Step 4.\n",
    "\n",
    "### Step 4: The predictive distributions\n",
    "\n",
    "If we knew the actual goal scoring rate, $\\lambda$, we could predict how many goals each team work score in a rematch.  The distribution of goals would be Poisson with parameter $\\lambda t$.\n",
    "\n",
    "We don't actually know $\\lambda$, but we can use the posterior distribution of $\\lambda$ to generate a predictive distribution for the number of additional goals."
   ]
  },
  {
   "cell_type": "code",
   "execution_count": 8,
   "metadata": {},
   "outputs": [],
   "source": [
    "def PredictiveDist(suite, duration=1, label='pred'):\n",
    "    \"\"\"Computes the distribution of goals scored in a game.\n",
    "\n",
    "    returns: new Pmf (mixture of Poissons)\n",
    "    \"\"\"\n",
    "    metapmf = thinkbayes2.Pmf()\n",
    "    for lam, prob in suite.Items():\n",
    "        pred = thinkbayes2.MakePoissonPmf(lam * duration, 15)\n",
    "        metapmf[pred] = prob\n",
    "\n",
    "    mix = thinkbayes2.MakeMixture(metapmf, label=label)\n",
    "    return mix\n",
    "\n",
    "germany_pred = PredictiveDist(germany, label='germany')\n",
    "argentina_pred = PredictiveDist(argentina, label='argentina')\n"
   ]
  },
  {
   "cell_type": "markdown",
   "metadata": {},
   "source": [
    "`PredictiveDist` takes the posterior distribution of $\\lambda$ and a duration (in units of games).\n",
    "\n",
    "It loops through the hypotheses in `suite`, computes the predictive distribution of goals for each hypothesis, and assembles a \"meta-Pmf\" which is a Pmf that maps from each predictive distribution to its probability.\n",
    "\n",
    "Finally, it uses `MakeMixture` to compute the mixture of the distributions.  Here's what the predictive distributions look like."
   ]
  },
  {
   "cell_type": "code",
   "execution_count": 9,
   "metadata": {},
   "outputs": [
    {
     "data": {
      "image/png": "[encoded data removed]",
      "text/plain": [
       "<matplotlib.figure.Figure at 0x7fcdd983fb10>"
      ]
     },
     "metadata": {},
     "output_type": "display_data"
    }
   ],
   "source": [
    "thinkplot.Hist(germany_pred, width=0.45, align='right')\n",
    "thinkplot.Hist(argentina_pred, width=0.45, align='left')\n",
    "thinkplot.Config(xlabel='predicted # goals', ylabel='probability', xlim=[-0.5, 7])"
   ]
  },
  {
   "cell_type": "markdown",
   "metadata": {},
   "source": [
    "Using the predictive distributions, we can compute probabilities for the outcomes of a rematch."
   ]
  },
  {
   "cell_type": "code",
   "execution_count": 10,
   "metadata": {},
   "outputs": [
    {
     "name": "stdout",
     "output_type": "stream",
     "text": [
      "posterior prob Germany wins rematch 0.450511695667\n",
      "posterior prob Argentina wins rematch 0.225540779355\n",
      "posterior prob tie 0.323947524978\n"
     ]
    }
   ],
   "source": [
    "win = germany_pred > argentina_pred\n",
    "lose = germany_pred < argentina_pred\n",
    "tie = 1 - (win + lose)\n",
    "\n",
    "print('posterior prob Germany wins rematch', win)\n",
    "print('posterior prob Argentina wins rematch', lose)\n",
    "print('posterior prob tie', tie)"
   ]
  },
  {
   "cell_type": "markdown",
   "metadata": {},
   "source": [
    "If the score is tied after 90 minutes the teams play an additional 30 minute period.  We can use `PredictiveDist` again to compute the distribution of scores after 1/3 of a game:"
   ]
  },
  {
   "cell_type": "code",
   "execution_count": 11,
   "metadata": {},
   "outputs": [],
   "source": [
    "germany_pred_overtime = PredictiveDist(germany, 1/3, label='germany')\n",
    "argentina_pred_overtime = PredictiveDist(argentina, 1/3, label='argentina')"
   ]
  },
  {
   "cell_type": "code",
   "execution_count": 12,
   "metadata": {},
   "outputs": [
    {
     "name": "stdout",
     "output_type": "stream",
     "text": [
      "posterior prob Germany wins rematch 0.256156067229\n",
      "posterior prob Argentina wins rematch 0.13931727161\n",
      "posterior prob tie 0.604526661162\n"
     ]
    }
   ],
   "source": [
    "win = germany_pred_overtime > argentina_pred_overtime\n",
    "lose = germany_pred_overtime < argentina_pred_overtime\n",
    "tie = 1 - (win + lose)\n",
    "\n",
    "print('posterior prob Germany wins rematch', win)\n",
    "print('posterior prob Argentina wins rematch', lose)\n",
    "print('posterior prob tie', tie)"
   ]
  },
  {
   "cell_type": "code",
   "execution_count": 13,
   "metadata": {},
   "outputs": [
    {
     "name": "stdout",
     "output_type": "stream",
     "text": [
      "Total prob Germany wins a rematch 0.5332\n"
     ]
    }
   ],
   "source": [
    "print('Total prob Germany wins a rematch', 0.45 + 0.32 * 0.26)"
   ]
  },
  {
   "cell_type": "code",
   "execution_count": 14,
   "metadata": {},
   "outputs": [
    {
     "name": "stdout",
     "output_type": "stream",
     "text": [
      "Total prob Argentina wins 0.2748\n"
     ]
    }
   ],
   "source": [
    "print('Total prob Argentina wins', 0.23 + 0.32 * 0.14)"
   ]
  },
  {
   "cell_type": "code",
   "execution_count": 15,
   "metadata": {},
   "outputs": [
    {
     "name": "stdout",
     "output_type": "stream",
     "text": [
      "Prob of draw after overtime 0.192\n"
     ]
    }
   ],
   "source": [
    "print('Prob of draw after overtime', 0.32 * 0.60)"
   ]
  },
  {
   "cell_type": "code",
   "execution_count": 15,
   "metadata": {},
   "outputs": [],
   "source": []
  }
 ],
 "metadata": {
  "kernelspec": {
   "display_name": "Python 3",
   "language": "python",
   "name": "python3"
  },
  "language_info": {
   "codemirror_mode": {
    "name": "ipython",
    "version": 3
   },
   "file_extension": ".py",
   "mimetype": "text/x-python",
   "name": "python",
   "nbconvert_exporter": "python",
   "pygments_lexer": "ipython3",
   "version": "3.8.5"
  }
 },
 "nbformat": 4,
 "nbformat_minor": 4
}
