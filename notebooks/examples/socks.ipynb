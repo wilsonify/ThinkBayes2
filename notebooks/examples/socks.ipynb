{
 "cells": [
  {
   "cell_type": "code",
   "execution_count": 2,
   "metadata": {},
   "outputs": [],
   "source": [
    "import thinkbayes\n",
    "from thinkbayes import thinkplot"
   ]
  },
  {
   "cell_type": "code",
   "execution_count": 6,
   "metadata": {},
   "outputs": [],
   "source": [
    "class Socks(thinkbayes.Suite):\n",
    "    \n",
    "    def __init__(self, hypos):\n",
    "        \"\"\"Inits a Sock object.\n",
    "        \n",
    "        hypos: sequence or map of number of pairs in the drawer\n",
    "        \n",
    "        matched: number of matched socks that have been picked\n",
    "        unmatched: number of unmatched socks that have been picked\n",
    "        \"\"\"\n",
    "        thinkbayes.Suite.__init__(self, hypos)\n",
    "        self.matched = 0\n",
    "        self.unmatched = 0\n",
    "        \n",
    "    def Update(self, data):\n",
    "        \"\"\"Updates the suite based on data.\n",
    "        \n",
    "        data: 'u' if we picked an unmatched sock, 'm' otherwise\n",
    "        \"\"\"\n",
    "        thinkbayes.Suite.Update(self, data)\n",
    "        if data == 'u':\n",
    "            self.unmatched += 1\n",
    "        else:\n",
    "            self.matched += 1\n",
    "            \n",
    "    def Likelihood(self, data, hypo):\n",
    "        \"\"\"Computes the likelihood of the data under the hypothesis.\n",
    "        \n",
    "        data: 'u' if we picked an unmatched sock, 'm' otherwise\n",
    "        hypo: hypothetical number of pairs\n",
    "        \"\"\"\n",
    "        n_pairs = hypo\n",
    "        n_socks = 2 * n_pairs - self.matched - self.unmatched\n",
    "        if n_socks <= 0:\n",
    "            return 0\n",
    "        \n",
    "        n_singletons = self.unmatched - self.matched\n",
    "        p = n_singletons / n_socks\n",
    "\n",
    "        like = 1-p if data == 'u' else p\n",
    "        return like"
   ]
  },
  {
   "cell_type": "code",
   "execution_count": 8,
   "metadata": {},
   "outputs": [
    {
     "name": "stderr",
     "output_type": "stream",
     "text": [
      "No handles with labels found to put in legend.\n"
     ]
    },
    {
     "data": {
      "image/png": "[encoded data removed]",
      "text/plain": [
       "<Figure size 432x288 with 1 Axes>"
      ]
     },
     "metadata": {
      "needs_background": "light"
     },
     "output_type": "display_data"
    }
   ],
   "source": [
    "prior_n_pairs = thinkbayes.MakePoissonPmf(12, 30)\n",
    "suite = Socks(prior_n_pairs)\n",
    "thinkplot.Hist(suite)\n",
    "thinkplot.Config(xlabel='# pairs', ylabel='PMF', xlim=[0, 30])"
   ]
  },
  {
   "cell_type": "code",
   "execution_count": 19,
   "metadata": {},
   "outputs": [
    {
     "name": "stderr",
     "output_type": "stream",
     "text": [
      "WARNING:matplotlib.legend:No handles with labels found to put in legend.\n"
     ]
    },
    {
     "data": {
      "image/png": "[encoded data removed]",
      "text/plain": [
       "<Figure size 432x288 with 1 Axes>"
      ]
     },
     "metadata": {
      "needs_background": "light"
     },
     "output_type": "display_data"
    }
   ],
   "source": [
    "suite = Socks(range(10,101))\n",
    "for datum in 'u' * 11:\n",
    "    suite.Update('u')\n",
    "thinkplot.Hist(suite)\n",
    "thinkplot.Config(xlabel='# pairs', ylabel='PMF', xlim=[0, 30])"
   ]
  },
  {
   "cell_type": "code",
   "execution_count": 20,
   "metadata": {},
   "outputs": [],
   "source": [
    "class Socks2(Socks, thinkbayes.Joint):\n",
    "    \n",
    "    def Likelihood(self, data, hypo):\n",
    "        \"\"\"Computes the likelihood of the data under the hypothesis.\n",
    "        \n",
    "        data: 'u' if we picked an unmatched sock, 'm' otherwise\n",
    "        hypo: hypothetical number of pairs, number of odds\n",
    "        \"\"\"\n",
    "        n_pairs, n_odds = hypo\n",
    "        n_socks = 2 * n_pairs + n_odds - self.matched - self.unmatched\n",
    "        if n_socks <= 0:\n",
    "            return 0\n",
    "        \n",
    "        n_singletons = self.unmatched - self.matched\n",
    "        p = n_singletons / n_socks\n",
    "\n",
    "        like = 1-p if data == 'u' else p\n",
    "        return like"
   ]
  },
  {
   "cell_type": "code",
   "execution_count": 21,
   "metadata": {},
   "outputs": [
    {
     "name": "stderr",
     "output_type": "stream",
     "text": [
      "WARNING:matplotlib.legend:No handles with labels found to put in legend.\n"
     ]
    },
    {
     "data": {
      "image/png": "[encoded data removed]",
      "text/plain": [
       "<Figure size 432x288 with 1 Axes>"
      ]
     },
     "metadata": {
      "needs_background": "light"
     },
     "output_type": "display_data"
    }
   ],
   "source": [
    "prior_n_odds = thinkbayes.MakePoissonPmf(3, 30)\n",
    "thinkplot.Hist(prior_n_odds)\n",
    "thinkplot.Config(xlabel='# odds', ylabel='PMF', xlim=[0, 30])"
   ]
  },
  {
   "cell_type": "code",
   "execution_count": 22,
   "metadata": {},
   "outputs": [],
   "source": [
    "joint = thinkbayes.MakeJoint(prior_n_pairs, prior_n_odds)\n",
    "suite = Socks2(joint)\n",
    "for datum in 'u' * 11:\n",
    "    suite.Update('u')"
   ]
  },
  {
   "cell_type": "code",
   "execution_count": 23,
   "metadata": {},
   "outputs": [
    {
     "name": "stderr",
     "output_type": "stream",
     "text": [
      "WARNING:matplotlib.legend:No handles with labels found to put in legend.\n"
     ]
    },
    {
     "data": {
      "image/png": "[encoded data removed]",
      "text/plain": [
       "<Figure size 432x288 with 1 Axes>"
      ]
     },
     "metadata": {
      "needs_background": "light"
     },
     "output_type": "display_data"
    }
   ],
   "source": [
    "post_n_pairs = suite.Marginal(0)\n",
    "thinkplot.Hist(post_n_pairs)\n",
    "thinkplot.Config(xlabel='# pairs', ylabel='PMF', xlim=[0, 30])"
   ]
  },
  {
   "cell_type": "code",
   "execution_count": 24,
   "metadata": {},
   "outputs": [
    {
     "name": "stderr",
     "output_type": "stream",
     "text": [
      "WARNING:matplotlib.legend:No handles with labels found to put in legend.\n"
     ]
    },
    {
     "data": {
      "image/png": "[encoded data removed]",
      "text/plain": [
       "<Figure size 432x288 with 1 Axes>"
      ]
     },
     "metadata": {
      "needs_background": "light"
     },
     "output_type": "display_data"
    }
   ],
   "source": [
    "post_n_odds = suite.Marginal(1)\n",
    "thinkplot.Hist(post_n_odds)\n",
    "thinkplot.Config(xlabel='# odds', ylabel='PMF', xlim=[0, 30])"
   ]
  },
  {
   "cell_type": "code",
   "execution_count": null,
   "metadata": {},
   "outputs": [],
   "source": []
  },
  {
   "cell_type": "code",
   "execution_count": null,
   "metadata": {},
   "outputs": [],
   "source": []
  }
 ],
 "metadata": {
  "kernelspec": {
   "display_name": "Python 3",
   "language": "python",
   "name": "python3"
  },
  "language_info": {
   "codemirror_mode": {
    "name": "ipython",
    "version": 3
   },
   "file_extension": ".py",
   "mimetype": "text/x-python",
   "name": "python",
   "nbconvert_exporter": "python",
   "pygments_lexer": "ipython3",
   "version": "3.8.0"
  }
 },
 "nbformat": 4,
 "nbformat_minor": 4
}
