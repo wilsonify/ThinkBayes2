{
 "cells": [
  {
   "cell_type": "code",
   "execution_count": 19,
   "metadata": {},
   "outputs": [],
   "source": [
    "import thinkbayes2\n",
    "import thinkplot\n"
   ]
  },
  {
   "cell_type": "code",
   "execution_count": 78,
   "metadata": {},
   "outputs": [],
   "source": [
    "class Socks(thinkbayes2.Suite):\n",
    "    \n",
    "    def __init__(self, hypos):\n",
    "        \"\"\"Inits a Sock object.\n",
    "        \n",
    "        hypos: sequence or map of number of pairs in the drawer\n",
    "        \n",
    "        matched: number of matched socks that have been picked\n",
    "        unmatched: number of unmatched socks that have been picked\n",
    "        \"\"\"\n",
    "        thinkbayes2.Suite.__init__(self, hypos)\n",
    "        self.matched = 0\n",
    "        self.unmatched = 0\n",
    "        \n",
    "    def Update(self, data):\n",
    "        \"\"\"Updates the suite based on data.\n",
    "        \n",
    "        data: 'u' if we picked an unmatched sock, 'm' otherwise\n",
    "        \"\"\"\n",
    "        thinkbayes2.Suite.Update(self, data)\n",
    "        if data == 'u':\n",
    "            self.unmatched += 1\n",
    "        else:\n",
    "            self.matched += 1\n",
    "            \n",
    "    def Likelihood(self, data, hypo):\n",
    "        \"\"\"Computes the likelihood of the data under the hypothesis.\n",
    "        \n",
    "        data: 'u' if we picked an unmatched sock, 'm' otherwise\n",
    "        hypo: hypothetical number of pairs\n",
    "        \"\"\"\n",
    "        n_pairs = hypo\n",
    "        n_socks = 2 * n_pairs - self.matched - self.unmatched\n",
    "        if n_socks <= 0:\n",
    "            return 0\n",
    "        \n",
    "        n_singletons = self.unmatched - self.matched\n",
    "        p = n_singletons / n_socks\n",
    "\n",
    "        like = 1-p if data == 'u' else p\n",
    "        return like"
   ]
  },
  {
   "cell_type": "code",
   "execution_count": 79,
   "metadata": {},
   "outputs": [
    {
     "data": {
      "image/png": "[encoded data removed]",
      "text/plain": [
       "<matplotlib.figure.Figure at 0x7f2568e8e910>"
      ]
     },
     "metadata": {},
     "output_type": "display_data"
    }
   ],
   "source": [
    "prior_n_pairs = thinkbayes2.MakePoissonPmf(12, 30)\n",
    "suite = Socks(prior_n_pairs)\n",
    "thinkplot.Hist(suite)\n",
    "thinkplot.Config(xlabel='# pairs', ylabel='PMF', xlim=[0, 30])"
   ]
  },
  {
   "cell_type": "code",
   "execution_count": 80,
   "metadata": {},
   "outputs": [
    {
     "data": {
      "image/png": "[encoded data removed]",
      "text/plain": [
       "<matplotlib.figure.Figure at 0x7f2568f44950>"
      ]
     },
     "metadata": {},
     "output_type": "display_data"
    }
   ],
   "source": [
    "suite = Socks(hypos)\n",
    "for datum in 'u' * 11:\n",
    "    suite.Update('u')\n",
    "thinkplot.Hist(suite)\n",
    "thinkplot.Config(xlabel='# pairs', ylabel='PMF', xlim=[0, 30])"
   ]
  },
  {
   "cell_type": "code",
   "execution_count": 91,
   "metadata": {},
   "outputs": [],
   "source": [
    "class Socks2(Socks, thinkbayes2.Joint):\n",
    "    \n",
    "    def Likelihood(self, data, hypo):\n",
    "        \"\"\"Computes the likelihood of the data under the hypothesis.\n",
    "        \n",
    "        data: 'u' if we picked an unmatched sock, 'm' otherwise\n",
    "        hypo: hypothetical number of pairs, number of odds\n",
    "        \"\"\"\n",
    "        n_pairs, n_odds = hypo\n",
    "        n_socks = 2 * n_pairs + n_odds - self.matched - self.unmatched\n",
    "        if n_socks <= 0:\n",
    "            return 0\n",
    "        \n",
    "        n_singletons = self.unmatched - self.matched\n",
    "        p = n_singletons / n_socks\n",
    "\n",
    "        like = 1-p if data == 'u' else p\n",
    "        return like"
   ]
  },
  {
   "cell_type": "code",
   "execution_count": 92,
   "metadata": {},
   "outputs": [
    {
     "data": {
      "image/png": "[encoded data removed]",
      "text/plain": [
       "<matplotlib.figure.Figure at 0x7f2568f86a10>"
      ]
     },
     "metadata": {},
     "output_type": "display_data"
    }
   ],
   "source": [
    "prior_n_odds = thinkbayes2.MakePoissonPmf(3, 30)\n",
    "thinkplot.Hist(prior_n_odds)\n",
    "thinkplot.Config(xlabel='# odds', ylabel='PMF', xlim=[0, 30])"
   ]
  },
  {
   "cell_type": "code",
   "execution_count": 93,
   "metadata": {},
   "outputs": [],
   "source": [
    "joint = thinkbayes2.MakeJoint(prior_n_pairs, prior_n_odds)\n",
    "suite = Socks2(joint)\n",
    "for datum in 'u' * 11:\n",
    "    suite.Update('u')"
   ]
  },
  {
   "cell_type": "code",
   "execution_count": 94,
   "metadata": {},
   "outputs": [
    {
     "data": {
      "image/png": "[encoded data removed]",
      "text/plain": [
       "<matplotlib.figure.Figure at 0x7f2568f07690>"
      ]
     },
     "metadata": {},
     "output_type": "display_data"
    }
   ],
   "source": [
    "post_n_pairs = suite.Marginal(0)\n",
    "thinkplot.Hist(post_n_pairs)\n",
    "thinkplot.Config(xlabel='# pairs', ylabel='PMF', xlim=[0, 30])"
   ]
  },
  {
   "cell_type": "code",
   "execution_count": 96,
   "metadata": {},
   "outputs": [
    {
     "data": {
      "image/png": "[encoded data removed]",
      "text/plain": [
       "<matplotlib.figure.Figure at 0x7f2568cbd410>"
      ]
     },
     "metadata": {},
     "output_type": "display_data"
    }
   ],
   "source": [
    "post_n_odds = suite.Marginal(1)\n",
    "thinkplot.Hist(post_n_odds)\n",
    "thinkplot.Config(xlabel='# odds', ylabel='PMF', xlim=[0, 30])"
   ]
  },
  {
   "cell_type": "code",
   "execution_count": null,
   "metadata": {},
   "outputs": [],
   "source": []
  }
 ],
 "metadata": {
  "kernelspec": {
   "display_name": "Python 3",
   "language": "python",
   "name": "python3"
  },
  "language_info": {
   "codemirror_mode": {
    "name": "ipython",
    "version": 3
   },
   "file_extension": ".py",
   "mimetype": "text/x-python",
   "name": "python",
   "nbconvert_exporter": "python",
   "pygments_lexer": "ipython3",
   "version": "3.6.5"
  }
 },
 "nbformat": 4,
 "nbformat_minor": 1
}
