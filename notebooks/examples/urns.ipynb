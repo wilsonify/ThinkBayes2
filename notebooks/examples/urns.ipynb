{
 "cells": [
  {
   "cell_type": "markdown",
   "metadata": {},
   "source": [
    "# Think Bayes\n",
    "\n",
    "This notebook presents example code and exercise solutions for Think Bayes.\n",
    "\n",
    "Copyright 2016 Allen B. Downey\n",
    "\n",
    "MIT License: https://opensource.org/licenses/MIT"
   ]
  },
  {
   "cell_type": "code",
   "execution_count": 1,
   "metadata": {},
   "outputs": [],
   "source": [
    "# Configure Jupyter so figures appear in the notebook\n",
    "%matplotlib inline\n",
    "\n",
    "# Configure Jupyter to display the assigned value after an assignment\n",
    "%config InteractiveShell.ast_node_interactivity='last_expr_or_assign'\n",
    "\n",
    "# import classes from thinkbayes2\n",
    "from thinkbayes2 import Pmf, Suite\n",
    "\n",
    "import thinkplot as tplt"
   ]
  },
  {
   "cell_type": "markdown",
   "metadata": {},
   "source": [
    "Here's a problem from Joyce, \"[How probabilities reflect evidence](http://www-personal.umich.edu/~jjoyce/papers/hpre.pdf)\":\n",
    "\n",
    ">Four Urns: Jacob and Emily both start out knowing that the urn U was\n",
    "randomly chosen from a set of four urns {urn0, urn1, urn2, urn3} where urn_i\n",
    "contains three balls, i of which are blue and 3-i of which are green. Since the\n",
    "choice of U was random both subjects assign equal credence to the four\n",
    "hypotheses about its contents: c(U = urn_i) = 1/4. Moreover, both treat these\n",
    "hypotheses as statements about the objective chance of drawing a blue ball from\n",
    "U, so that knowledge of U = urn_i ‘screen offs’ any sampling data in the sense\n",
    "that c(Bnext |E & U = urn_i) = c(Bnext | U = urni), where Bnext says that the next\n",
    "ball drawn from the urn will be blue and E is a proposition that describes any\n",
    "prior series of random draws with replacement from U. Finally, Jacob and\n",
    "Emily regard random drawing with replacement as an exchangeable process,\n",
    "so that any series of draws that produces m blue balls and n green balls is as\n",
    "likely as any other such series, irrespective of order. Use BmGn to denote the\n",
    "generic event in which m blue balls and n green balls are drawn at random and\n",
    "with replacement form U. Against this backdrop of shared evidence, suppose\n",
    "Jacob sees five balls drawn at random and with replacement from U and\n",
    "observes that all are blue, so his evidence is B5G0. Emily, who sees Jacob’s\n",
    "evidence, looks at fifteen additional draws of which twelve come up blue, so her\n",
    "evidence is B17G3. What should Emily and Jacob think about Bnext?\n",
    "\n",
    "Here's a class that represents a suite of hypotheses about the urns:"
   ]
  },
  {
   "cell_type": "code",
   "execution_count": 2,
   "metadata": {},
   "outputs": [],
   "source": [
    "class Urns(Suite):\n",
    "    \n",
    "    def Likelihood(self, data, hypo):\n",
    "        \"\"\"Computes the likelihood of the data under the hypothesis.\n",
    "        \n",
    "        data: 'B' or 'G'\n",
    "        hypo: urn index from 0..3\n",
    "        \"\"\"\n",
    "        prob_blue = hypo / 3\n",
    "        if data == 'B':\n",
    "            return prob_blue\n",
    "        else:\n",
    "            return 1-prob_blue"
   ]
  },
  {
   "cell_type": "markdown",
   "metadata": {},
   "source": [
    "Here's the uniform prior:"
   ]
  },
  {
   "cell_type": "code",
   "execution_count": 3,
   "metadata": {},
   "outputs": [
    {
     "data": {
      "image/png": "[encoded data removed]",
      "text/plain": [
       "<Figure size 432x288 with 1 Axes>"
      ]
     },
     "metadata": {},
     "output_type": "display_data"
    }
   ],
   "source": [
    "prior = Urns([0, 1, 2, 3])\n",
    "tplt.Hist(prior)\n",
    "tplt.decorate(xlabel='Urn index (i)', ylabel='PMF')"
   ]
  },
  {
   "cell_type": "markdown",
   "metadata": {},
   "source": [
    "Here's Jacob's update after 5 blue marbles."
   ]
  },
  {
   "cell_type": "code",
   "execution_count": 4,
   "metadata": {},
   "outputs": [
    {
     "name": "stdout",
     "output_type": "stream",
     "text": [
      "0 0.0\n",
      "1 0.0036231884057971\n",
      "2 0.1159420289855072\n",
      "3 0.8804347826086956\n"
     ]
    }
   ],
   "source": [
    "jacob = prior.Copy()\n",
    "B5G0 = 'B'*5\n",
    "\n",
    "for data in B5G0:\n",
    "    jacob.Update(data)\n",
    "\n",
    "jacob.Print()"
   ]
  },
  {
   "cell_type": "code",
   "execution_count": 5,
   "metadata": {},
   "outputs": [
    {
     "data": {
      "image/png": "[encoded data removed]",
      "text/plain": [
       "<Figure size 432x288 with 1 Axes>"
      ]
     },
     "metadata": {},
     "output_type": "display_data"
    }
   ],
   "source": [
    "tplt.Hist(prior, color='gray')\n",
    "tplt.Hist(jacob)\n",
    "tplt.decorate(xlabel='Urn index (i)', ylabel='PMF')"
   ]
  },
  {
   "cell_type": "markdown",
   "metadata": {},
   "source": [
    "Here's Emily's update after an additional 12 blue and 3 green."
   ]
  },
  {
   "cell_type": "code",
   "execution_count": 6,
   "metadata": {},
   "outputs": [
    {
     "name": "stdout",
     "output_type": "stream",
     "text": [
      "0 0.0\n",
      "1 6.1031431187061336e-05\n",
      "2 0.9999389685688129\n",
      "3 0.0\n"
     ]
    }
   ],
   "source": [
    "emily = jacob.Copy()\n",
    "B12G3 = 'B'*12 + 'G'*3\n",
    "\n",
    "for data in B12G3:\n",
    "    emily.Update(data)\n",
    "\n",
    "emily.Print()"
   ]
  },
  {
   "cell_type": "code",
   "execution_count": 7,
   "metadata": {},
   "outputs": [
    {
     "data": {
      "image/png": "[encoded data removed]",
      "text/plain": [
       "<Figure size 864x432 with 2 Axes>"
      ]
     },
     "metadata": {},
     "output_type": "display_data"
    }
   ],
   "source": [
    "tplt.preplot(cols=2)\n",
    "tplt.Hist(jacob, label='Jacob')\n",
    "tplt.decorate(xlabel='Urn index (i)', ylabel='PMF')\n",
    "\n",
    "tplt.subplot(2)\n",
    "tplt.Hist(emily, label='Emily')\n",
    "tplt.decorate(xlabel='Urn index (i)', ylabel='PMF')"
   ]
  },
  {
   "cell_type": "markdown",
   "metadata": {},
   "source": [
    "What should Jacob believe about Bnext?"
   ]
  },
  {
   "cell_type": "code",
   "execution_count": 8,
   "metadata": {},
   "outputs": [
    {
     "name": "stdout",
     "output_type": "stream",
     "text": [
      "0 0.0\n",
      "1 0.0036231884057971\n",
      "2 0.1159420289855072\n",
      "3 0.8804347826086956\n"
     ]
    },
    {
     "data": {
      "text/plain": [
       "0.9589371980676328"
      ]
     },
     "execution_count": 8,
     "metadata": {},
     "output_type": "execute_result"
    }
   ],
   "source": [
    "total = 0\n",
    "for i, prob_i in jacob.Items():\n",
    "    print(i, prob_i)\n",
    "    prob_blue = i/3\n",
    "    total += prob_i * prob_blue\n",
    "    \n",
    "total"
   ]
  },
  {
   "cell_type": "markdown",
   "metadata": {},
   "source": [
    "Let's make it a function:"
   ]
  },
  {
   "cell_type": "code",
   "execution_count": 9,
   "metadata": {},
   "outputs": [],
   "source": [
    "def prob_b_next(suite):\n",
    "    total = 0\n",
    "    for i, prob_i in suite.Items():\n",
    "        prob_blue = i/3\n",
    "        total += prob_i * prob_blue\n",
    "    \n",
    "    return total"
   ]
  },
  {
   "cell_type": "markdown",
   "metadata": {},
   "source": [
    "Here's what Jacob believes."
   ]
  },
  {
   "cell_type": "code",
   "execution_count": 10,
   "metadata": {},
   "outputs": [
    {
     "data": {
      "text/plain": [
       "0.9589371980676328"
      ]
     },
     "execution_count": 10,
     "metadata": {},
     "output_type": "execute_result"
    }
   ],
   "source": [
    "prob_b_next(jacob)"
   ]
  },
  {
   "cell_type": "markdown",
   "metadata": {},
   "source": [
    "And Emily."
   ]
  },
  {
   "cell_type": "code",
   "execution_count": 11,
   "metadata": {},
   "outputs": [
    {
     "data": {
      "text/plain": [
       "0.666646322856271"
      ]
     },
     "execution_count": 11,
     "metadata": {},
     "output_type": "execute_result"
    }
   ],
   "source": [
    "prob_b_next(emily)"
   ]
  },
  {
   "cell_type": "markdown",
   "metadata": {},
   "source": [
    "Suppose we draw a **blue** marble from the same urn and show it to Jacob and Emily.  How much do their beliefs about Bnext change?\n",
    "\n",
    "Here's the effect on Jacob."
   ]
  },
  {
   "cell_type": "code",
   "execution_count": 12,
   "metadata": {},
   "outputs": [
    {
     "name": "stdout",
     "output_type": "stream",
     "text": [
      "0.9589371980676328\n",
      "0.9722921914357681\n"
     ]
    }
   ],
   "source": [
    "print(prob_b_next(jacob))\n",
    "jacob.Update('B')\n",
    "print(prob_b_next(jacob))"
   ]
  },
  {
   "cell_type": "markdown",
   "metadata": {},
   "source": [
    "And on Emily."
   ]
  },
  {
   "cell_type": "code",
   "execution_count": 13,
   "metadata": {},
   "outputs": [
    {
     "name": "stdout",
     "output_type": "stream",
     "text": [
      "0.666646322856271\n",
      "0.6666564944510563\n"
     ]
    }
   ],
   "source": [
    "print(prob_b_next(emily))\n",
    "emily.Update('B')\n",
    "print(prob_b_next(emily))"
   ]
  },
  {
   "cell_type": "markdown",
   "metadata": {},
   "source": [
    "Suppose we draw a **green** marble from the same urn and show it to Jacob and Emily.  How much do their beliefs about Bnext change?"
   ]
  },
  {
   "cell_type": "code",
   "execution_count": 14,
   "metadata": {},
   "outputs": [
    {
     "name": "stdout",
     "output_type": "stream",
     "text": [
      "0.9722921914357681\n",
      "0.6565656565656565\n"
     ]
    }
   ],
   "source": [
    "print(prob_b_next(jacob))\n",
    "jacob.Update('G')\n",
    "print(prob_b_next(jacob))"
   ]
  },
  {
   "cell_type": "code",
   "execution_count": 15,
   "metadata": {},
   "outputs": [
    {
     "name": "stdout",
     "output_type": "stream",
     "text": [
      "0.6666564944510563\n",
      "0.666646322856271\n"
     ]
    }
   ],
   "source": [
    "print(prob_b_next(emily))\n",
    "emily.Update('G')\n",
    "print(prob_b_next(emily))"
   ]
  },
  {
   "cell_type": "code",
   "execution_count": null,
   "metadata": {},
   "outputs": [],
   "source": []
  }
 ],
 "metadata": {
  "kernelspec": {
   "display_name": "Python 3",
   "language": "python",
   "name": "python3"
  },
  "language_info": {
   "codemirror_mode": {
    "name": "ipython",
    "version": 3
   },
   "file_extension": ".py",
   "mimetype": "text/x-python",
   "name": "python",
   "nbconvert_exporter": "python",
   "pygments_lexer": "ipython3",
   "version": "3.7.0"
  }
 },
 "nbformat": 4,
 "nbformat_minor": 1
}
