{
 "cells": [
  {
   "cell_type": "markdown",
   "metadata": {},
   "source": [
    "# Think Bayes\n",
    "\n",
    "This notebook presents example code and exercise solutions for Think Bayes.\n",
    "\n",
    "Copyright 2018 Allen B. Downey\n",
    "\n",
    "MIT License: https://opensource.org/licenses/MIT"
   ]
  },
  {
   "cell_type": "code",
   "execution_count": 1,
   "metadata": {},
   "outputs": [],
   "source": [
    "# Configure Jupyter so figures appear in the notebook\n",
    "%matplotlib inline\n",
    "\n",
    "# Configure Jupyter to display the assigned value after an assignment\n",
    "%config InteractiveShell.ast_node_interactivity='last_expr_or_assign'\n",
    "\n",
    "# import classes from thinkbayes2\n",
    "from thinkbayes2 import Pmf, Cdf, Suite\n",
    "\n",
    "import thinkbayes2\n",
    "import thinkplot\n",
    "\n",
    "import numpy as np\n",
    "from scipy.special import gamma\n",
    "\n",
    "import pymc3 as pm"
   ]
  },
  {
   "cell_type": "markdown",
   "metadata": {},
   "source": [
    "## The World Cup Problem, Part One\n",
    "\n",
    ">In the 2014 FIFA World Cup, Germany played Brazil in a semifinal match. Germany scored after 11 minutes and again at the 23 minute mark. At that point in the match, how many goals would you expect Germany to score after 90 minutes? What was the probability that they would score 5 more goals (as, in fact, they did)?"
   ]
  },
  {
   "cell_type": "markdown",
   "metadata": {},
   "source": [
    "Let's assume that Germany has some hypothetical goal-scoring rate, λ, in goals per game.\n",
    "\n",
    "To represent the prior distribution of λ, I'll use a Gamma distribution with mean 1.3, which is the average number of goals per team per game in World Cup play.\n",
    "\n",
    "Here's what the prior looks like."
   ]
  },
  {
   "cell_type": "code",
   "execution_count": 2,
   "metadata": {},
   "outputs": [],
   "source": [
    "from thinkbayes2 import MakeGammaPmf\n",
    "\n",
    "xs = np.linspace(0, 12, 101)\n",
    "pmf_gamma = MakeGammaPmf(xs, 1.3)\n",
    "thinkplot.Pdf(pmf_gamma)\n",
    "thinkplot.decorate(title='Gamma PDF',\n",
    "                   xlabel='Goals per game',\n",
    "                   ylabel='PDF')\n",
    "pmf_gamma.Mean()"
   ]
  },
  {
   "cell_type": "code",
   "execution_count": 3,
   "metadata": {},
   "outputs": [],
   "source": [
    "class Soccer(Suite):\n",
    "    \"\"\"Represents hypotheses about goal-scoring rates.\"\"\"\n",
    "\n",
    "    def Likelihood(self, data, hypo):\n",
    "        \"\"\"Computes the likelihood of the data under the hypothesis.\n",
    "\n",
    "        hypo: scoring rate in goals per game\n",
    "        data: interarrival time in minutes\n",
    "        \"\"\"\n",
    "        x = data / 90\n",
    "        lam = hypo\n",
    "        like = lam * np.exp(-lam * x)\n",
    "        return like"
   ]
  },
  {
   "cell_type": "markdown",
   "metadata": {},
   "source": [
    "Now we can create a `Soccer` object and initialize it with the prior Pmf:"
   ]
  },
  {
   "cell_type": "code",
   "execution_count": 4,
   "metadata": {},
   "outputs": [],
   "source": [
    "prior = Soccer(pmf_gamma)\n",
    "thinkplot.Pdf(prior)\n",
    "thinkplot.decorate(title='Gamma prior',\n",
    "                   xlabel='Goals per game',\n",
    "                   ylabel='PDF')\n",
    "prior.Mean()"
   ]
  },
  {
   "cell_type": "markdown",
   "metadata": {},
   "source": [
    "Here's the update after the first goal at 11 minutes."
   ]
  },
  {
   "cell_type": "code",
   "execution_count": 5,
   "metadata": {},
   "outputs": [],
   "source": [
    "posterior1 = prior.Copy()\n",
    "posterior1.Update(11)\n",
    "\n",
    "thinkplot.Pdf(prior, color='0.7')\n",
    "thinkplot.Pdf(posterior1)\n",
    "thinkplot.decorate(title='Posterior after 1 goal',\n",
    "                   xlabel='Goals per game',\n",
    "                   ylabel='PDF')\n",
    "posterior1.Mean()"
   ]
  },
  {
   "cell_type": "markdown",
   "metadata": {},
   "source": [
    "Here's the update after the second goal at 23 minutes (the time between first and second goals is 12 minutes).\n"
   ]
  },
  {
   "cell_type": "code",
   "execution_count": 6,
   "metadata": {},
   "outputs": [],
   "source": [
    "posterior2 = posterior1.Copy()\n",
    "posterior2.Update(12)\n",
    "\n",
    "thinkplot.Pdf(prior, color='0.7')\n",
    "thinkplot.Pdf(posterior1, color='0.7')\n",
    "thinkplot.Pdf(posterior2)\n",
    "\n",
    "thinkplot.decorate(title='Posterior after 2 goals',\n",
    "                   xlabel='Goals per game',\n",
    "                   ylabel='PDF')\n",
    "posterior2.Mean()"
   ]
  },
  {
   "cell_type": "code",
   "execution_count": 7,
   "metadata": {},
   "outputs": [],
   "source": [
    "from thinkbayes2 import MakePoissonPmf"
   ]
  },
  {
   "cell_type": "markdown",
   "metadata": {},
   "source": [
    "We can compute the mixture of these distributions by making a Meta-Pmf that maps from each Poisson Pmf to its probability."
   ]
  },
  {
   "cell_type": "code",
   "execution_count": 8,
   "metadata": {},
   "outputs": [],
   "source": [
    "rem_time = 90 - 23\n",
    "\n",
    "metapmf = Pmf()\n",
    "for lam, prob in posterior2.Items():\n",
    "    lt = lam * rem_time / 90\n",
    "    pred = MakePoissonPmf(lt, 15)\n",
    "    metapmf[pred] = prob"
   ]
  },
  {
   "cell_type": "markdown",
   "metadata": {},
   "source": [
    "`MakeMixture` takes a Meta-Pmf (a Pmf that contains Pmfs) and returns a single Pmf that represents the weighted mixture of distributions:"
   ]
  },
  {
   "cell_type": "code",
   "execution_count": 9,
   "metadata": {},
   "outputs": [],
   "source": [
    "def MakeMixture(metapmf, label='mix'):\n",
    "    \"\"\"Make a mixture distribution.\n",
    "\n",
    "    Args:\n",
    "      metapmf: Pmf that maps from Pmfs to probs.\n",
    "      label: string label for the new Pmf.\n",
    "\n",
    "    Returns: Pmf object.\n",
    "    \"\"\"\n",
    "    mix = Pmf(label=label)\n",
    "    for pmf, p1 in metapmf.Items():\n",
    "        for x, p2 in pmf.Items():\n",
    "            mix[x] += p1 * p2\n",
    "    return mix"
   ]
  },
  {
   "cell_type": "markdown",
   "metadata": {},
   "source": [
    "Here's the result for the World Cup problem."
   ]
  },
  {
   "cell_type": "code",
   "execution_count": 10,
   "metadata": {},
   "outputs": [],
   "source": [
    "mix = MakeMixture(metapmf)\n",
    "mix.Print()"
   ]
  },
  {
   "cell_type": "markdown",
   "metadata": {},
   "source": [
    "And here's what the mixture looks like."
   ]
  },
  {
   "cell_type": "code",
   "execution_count": 11,
   "metadata": {},
   "outputs": [],
   "source": [
    "thinkplot.Hist(mix)\n",
    "thinkplot.decorate(title='Posterior predictive distribution',\n",
    "                   xlabel='Goals scored', \n",
    "                   ylabel='PMF')"
   ]
  },
  {
   "cell_type": "markdown",
   "metadata": {},
   "source": [
    "**Exercise:** Compute the predictive mean and the probability of scoring 5 or more additional goals."
   ]
  },
  {
   "cell_type": "code",
   "execution_count": 12,
   "metadata": {},
   "outputs": [],
   "source": [
    "# Solution goes here"
   ]
  },
  {
   "cell_type": "markdown",
   "metadata": {},
   "source": [
    "## MCMC\n",
    "\n",
    "Building the MCMC model incrementally, start with just the prior distribution for `lam`."
   ]
  },
  {
   "cell_type": "code",
   "execution_count": 13,
   "metadata": {},
   "outputs": [],
   "source": [
    "cdf_gamma = pmf_gamma.MakeCdf();"
   ]
  },
  {
   "cell_type": "code",
   "execution_count": 14,
   "metadata": {},
   "outputs": [],
   "source": [
    "mean_rate = 1.3\n",
    "\n",
    "with pm.Model() as model:\n",
    "    lam = pm.Gamma('lam', alpha=mean_rate, beta=1)\n",
    "    trace = pm.sample_prior_predictive(1000)"
   ]
  },
  {
   "cell_type": "code",
   "execution_count": 15,
   "metadata": {},
   "outputs": [],
   "source": [
    "lam_sample = trace['lam']\n",
    "print(lam_sample.mean())\n",
    "\n",
    "cdf_lam = Cdf(lam_sample)\n",
    "thinkplot.Cdf(cdf_gamma, label='Prior grid')\n",
    "thinkplot.Cdf(cdf_lam, label='Prior MCMC')\n",
    "thinkplot.decorate(xlabel='Goal scoring rate',\n",
    "                   ylabel='Cdf')"
   ]
  },
  {
   "cell_type": "markdown",
   "metadata": {},
   "source": [
    "Let's look at the prior predictive distribution for the time between goals (in games)."
   ]
  },
  {
   "cell_type": "code",
   "execution_count": 16,
   "metadata": {},
   "outputs": [],
   "source": [
    "with pm.Model() as model:\n",
    "    lam = pm.Gamma('lam', alpha=mean_rate, beta=1)\n",
    "    gap = pm.Exponential('gap', lam)\n",
    "    trace = pm.sample_prior_predictive(1000)"
   ]
  },
  {
   "cell_type": "code",
   "execution_count": 17,
   "metadata": {},
   "outputs": [],
   "source": [
    "gap_sample = trace['gap']\n",
    "print(gap_sample.mean())\n",
    "cdf_lam = Cdf(gap_sample)\n",
    "\n",
    "thinkplot.Cdf(cdf_lam)\n",
    "thinkplot.decorate(xlabel='Time between goals (games)',\n",
    "                   ylabel='Cdf')"
   ]
  },
  {
   "cell_type": "markdown",
   "metadata": {},
   "source": [
    "Now we're ready for the inverse problem, estimating `lam` based on the first observed gap."
   ]
  },
  {
   "cell_type": "code",
   "execution_count": 18,
   "metadata": {},
   "outputs": [],
   "source": [
    "first_gap = 11/90\n",
    "\n",
    "with pm.Model() as model:\n",
    "    lam = pm.Gamma('lam', alpha=mean_rate, beta=1)\n",
    "    gap = pm.Exponential('gap', lam, observed=first_gap)\n",
    "    trace = pm.sample(1000, tune=3000)"
   ]
  },
  {
   "cell_type": "code",
   "execution_count": 19,
   "metadata": {},
   "outputs": [],
   "source": [
    "pm.traceplot(trace);"
   ]
  },
  {
   "cell_type": "code",
   "execution_count": 20,
   "metadata": {},
   "outputs": [],
   "source": [
    "lam_sample = trace['lam']\n",
    "print(lam_sample.mean())\n",
    "print(posterior1.Mean())\n",
    "cdf_lam = Cdf(lam_sample)\n",
    "\n",
    "thinkplot.Cdf(posterior1.MakeCdf(), label='Posterior analytic')\n",
    "thinkplot.Cdf(cdf_lam, label='Posterior MCMC')\n",
    "thinkplot.decorate(xlabel='Goal scoring rate',\n",
    "                   ylabel='Cdf')"
   ]
  },
  {
   "cell_type": "markdown",
   "metadata": {},
   "source": [
    "And here's the inverse problem with both observed gaps."
   ]
  },
  {
   "cell_type": "code",
   "execution_count": 21,
   "metadata": {},
   "outputs": [],
   "source": [
    "second_gap = 12/90\n",
    "\n",
    "with pm.Model() as model:\n",
    "    lam = pm.Gamma('lam', alpha=mean_rate, beta=1)\n",
    "    gap = pm.Exponential('gap', lam, observed=[first_gap, second_gap])\n",
    "    trace = pm.sample(1000, tune=2000)"
   ]
  },
  {
   "cell_type": "code",
   "execution_count": 22,
   "metadata": {},
   "outputs": [],
   "source": [
    "pm.traceplot(trace);"
   ]
  },
  {
   "cell_type": "code",
   "execution_count": 23,
   "metadata": {},
   "outputs": [],
   "source": [
    "lam_sample = trace['lam']\n",
    "print(lam_sample.mean())\n",
    "print(posterior2.Mean())\n",
    "cdf_lam = Cdf(lam_sample)\n",
    "\n",
    "thinkplot.Cdf(posterior2.MakeCdf(), label='Posterior analytic')\n",
    "thinkplot.Cdf(cdf_lam, label='Posterior MCMC')\n",
    "thinkplot.decorate(xlabel='Goal scoring rate',\n",
    "                   ylabel='Cdf')"
   ]
  },
  {
   "cell_type": "markdown",
   "metadata": {},
   "source": [
    "And we can generate a predictive distribution for the time until the next goal (in games)."
   ]
  },
  {
   "cell_type": "code",
   "execution_count": 24,
   "metadata": {
    "scrolled": true
   },
   "outputs": [],
   "source": [
    "with model:\n",
    "    post_pred = pm.sample_ppc(trace, samples=1000)"
   ]
  },
  {
   "cell_type": "code",
   "execution_count": 25,
   "metadata": {},
   "outputs": [],
   "source": [
    "gap_sample = post_pred['gap'].flatten()\n",
    "print(gap_sample.mean())\n",
    "\n",
    "cdf_gap = Cdf(gap_sample)\n",
    "thinkplot.Cdf(cdf_gap)\n",
    "thinkplot.decorate(xlabel='Time between goals (games)',\n",
    "                   ylabel='Cdf')"
   ]
  },
  {
   "cell_type": "markdown",
   "metadata": {},
   "source": [
    "**Exercise:** Use PyMC to write a solution to the second World Cup problem:\n",
    "\n",
    ">In the final match of the 2014 FIFA World Cup, Germany defeated Argentina 1-0. How much evidence does this victory provide that Germany had the better team? What is the probability that Germany would win a rematch?"
   ]
  },
  {
   "cell_type": "code",
   "execution_count": 38,
   "metadata": {},
   "outputs": [],
   "source": [
    "with pm.Model() as model:\n",
    "    lam = pm.Gamma('lam', alpha=mean_rate, beta=1)\n",
    "    goals = pm.Poisson('goals', lam, observed=1)\n",
    "    trace = pm.sample(3000, tune=3000)"
   ]
  },
  {
   "cell_type": "code",
   "execution_count": 39,
   "metadata": {},
   "outputs": [],
   "source": [
    "pm.traceplot(trace);"
   ]
  },
  {
   "cell_type": "code",
   "execution_count": 40,
   "metadata": {},
   "outputs": [],
   "source": [
    "lam_sample = trace['lam']\n",
    "print(lam_sample.mean())\n",
    "cdf_lam = Cdf(lam_sample)\n",
    "\n",
    "thinkplot.Cdf(cdf_lam, label='Posterior MCMC')\n",
    "thinkplot.decorate(xlabel='Goal scoring rate',\n",
    "                   ylabel='Cdf')"
   ]
  },
  {
   "cell_type": "markdown",
   "metadata": {},
   "source": [
    "And we can generate a predictive distribution for the time until the next goal (in games)."
   ]
  },
  {
   "cell_type": "code",
   "execution_count": 41,
   "metadata": {
    "scrolled": true
   },
   "outputs": [],
   "source": [
    "with model:\n",
    "    post_pred = pm.sample_ppc(trace, samples=3000)"
   ]
  },
  {
   "cell_type": "code",
   "execution_count": 42,
   "metadata": {},
   "outputs": [],
   "source": [
    "goal_sample = post_pred['goals'].flatten()\n",
    "print(goal_sample.mean())\n",
    "\n",
    "pmf_goals = Pmf(goal_sample)\n",
    "thinkplot.Hist(pmf_goals)\n",
    "thinkplot.decorate(xlabel='Number of goals',\n",
    "                   ylabel='Cdf')"
   ]
  },
  {
   "cell_type": "code",
   "execution_count": 43,
   "metadata": {},
   "outputs": [],
   "source": [
    "from scipy.stats import poisson\n",
    "\n",
    "class Soccer2(thinkbayes2.Suite):\n",
    "    \"\"\"Represents hypotheses about goal-scoring rates.\"\"\"\n",
    "\n",
    "    def Likelihood(self, data, hypo):\n",
    "        \"\"\"Computes the likelihood of the data under the hypothesis.\n",
    "\n",
    "        hypo: goal rate in goals per game\n",
    "        data: goals scored in a game\n",
    "        \"\"\"\n",
    "        return poisson.pmf(data, hypo) "
   ]
  },
  {
   "cell_type": "code",
   "execution_count": 44,
   "metadata": {},
   "outputs": [],
   "source": [
    "from thinkbayes2 import MakeGammaPmf\n",
    "\n",
    "xs = np.linspace(0, 8, 101)\n",
    "pmf = MakeGammaPmf(xs, 1.3)\n",
    "thinkplot.Pdf(pmf)\n",
    "thinkplot.decorate(xlabel='Goal-scoring rate (λ)',\n",
    "                   ylabel='PMF')\n",
    "pmf.Mean()"
   ]
  },
  {
   "cell_type": "code",
   "execution_count": 45,
   "metadata": {},
   "outputs": [],
   "source": [
    "germany = Soccer2(pmf);"
   ]
  },
  {
   "cell_type": "code",
   "execution_count": 46,
   "metadata": {},
   "outputs": [],
   "source": [
    "germany.Update(1)"
   ]
  },
  {
   "cell_type": "code",
   "execution_count": 47,
   "metadata": {},
   "outputs": [],
   "source": [
    "def PredictiveDist(suite, duration=1, label='pred'):\n",
    "    \"\"\"Computes the distribution of goals scored in a game.\n",
    "\n",
    "    returns: new Pmf (mixture of Poissons)\n",
    "    \"\"\"\n",
    "    metapmf = thinkbayes2.Pmf()\n",
    "    for lam, prob in suite.Items():\n",
    "        pred = thinkbayes2.MakePoissonPmf(lam * duration, 10)\n",
    "        metapmf[pred] = prob\n",
    "\n",
    "    mix = thinkbayes2.MakeMixture(metapmf, label=label)\n",
    "    return mix"
   ]
  },
  {
   "cell_type": "code",
   "execution_count": 48,
   "metadata": {},
   "outputs": [],
   "source": [
    "germany_pred = PredictiveDist(germany, label='germany')\n",
    "\n",
    "thinkplot.Hist(germany_pred, width=0.45, align='right')\n",
    "thinkplot.Hist(pmf_goals, width=0.45, align='left')\n",
    "thinkplot.decorate(xlabel='Predicted # goals',\n",
    "                   ylabel='Pmf')"
   ]
  },
  {
   "cell_type": "code",
   "execution_count": 49,
   "metadata": {},
   "outputs": [],
   "source": [
    "thinkplot.Cdf(germany_pred.MakeCdf(), label='Grid')\n",
    "thinkplot.Cdf(Cdf(goal_sample), label='MCMC')\n",
    "thinkplot.decorate(xlabel='Predicted # goals',\n",
    "                   ylabel='Pmf')"
   ]
  },
  {
   "cell_type": "code",
   "execution_count": null,
   "metadata": {},
   "outputs": [],
   "source": []
  }
 ],
 "metadata": {
  "kernelspec": {
   "display_name": "Python 3",
   "language": "python",
   "name": "python3"
  },
  "language_info": {
   "codemirror_mode": {
    "name": "ipython",
    "version": 3
   },
   "file_extension": ".py",
   "mimetype": "text/x-python",
   "name": "python",
   "nbconvert_exporter": "python",
   "pygments_lexer": "ipython3",
   "version": "3.6.5"
  }
 },
 "nbformat": 4,
 "nbformat_minor": 1
}
