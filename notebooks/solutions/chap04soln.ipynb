{
 "cells": [
  {
   "cell_type": "markdown",
   "metadata": {},
   "source": [
    "# Think Bayes solutions: Chapter 4\n",
    "\n",
    "This notebook presents solutions to exercises in Think Bayes.\n",
    "\n",
    "Copyright 2016 Allen B. Downey\n",
    "\n",
    "MIT License: https://opensource.org/licenses/MIT"
   ]
  },
  {
   "cell_type": "code",
   "execution_count": 1,
   "metadata": {
    "collapsed": false
   },
   "outputs": [],
   "source": [
    "from __future__ import print_function, division\n",
    "\n",
    "% matplotlib inline\n",
    "import warnings\n",
    "warnings.filterwarnings('ignore')\n",
    "\n",
    "import numpy as np\n",
    "\n",
    "from thinkbayes2 import Pmf, Cdf, Suite\n",
    "import thinkplot"
   ]
  },
  {
   "cell_type": "markdown",
   "metadata": {},
   "source": [
    "## The Euro problem\n",
    "\n",
    "Here's a class that represents hypotheses about the probability a coin lands heads."
   ]
  },
  {
   "cell_type": "code",
   "execution_count": 2,
   "metadata": {
    "collapsed": false
   },
   "outputs": [],
   "source": [
    "class Euro(Suite):\n",
    "\n",
    "    def Likelihood(self, data, hypo):\n",
    "        \"\"\"Computes the likelihood of `data` given `hypo`.\n",
    "        \n",
    "        data: string 'H' or 'T'\n",
    "        hypo: probability of heads, 0-100\n",
    "        \n",
    "        returns: float\n",
    "        \"\"\"\n",
    "        x = hypo\n",
    "        if data == 'H':\n",
    "            return x/100\n",
    "        else:\n",
    "            return 1 - x/100"
   ]
  },
  {
   "cell_type": "markdown",
   "metadata": {},
   "source": [
    "We can make a uniform prior and update it with 140 heads and 110 tails:"
   ]
  },
  {
   "cell_type": "code",
   "execution_count": 3,
   "metadata": {
    "collapsed": false
   },
   "outputs": [],
   "source": [
    "suite = Euro(range(0, 101))\n",
    "dataset = 'H' * 140 + 'T' * 110\n",
    "\n",
    "for data in dataset:\n",
    "    suite.Update(data)"
   ]
  },
  {
   "cell_type": "markdown",
   "metadata": {},
   "source": [
    "And here's what the posterior looks like."
   ]
  },
  {
   "cell_type": "code",
   "execution_count": 4,
   "metadata": {
    "collapsed": false
   },
   "outputs": [
    {
     "data": {
      "image/png": "[encoded data removed]",
      "text/plain": [
       "<Figure size 432x288 with 1 Axes>"
      ]
     },
     "metadata": {},
     "output_type": "display_data"
    }
   ],
   "source": [
    "thinkplot.Pdf(suite)"
   ]
  },
  {
   "cell_type": "markdown",
   "metadata": {},
   "source": [
    "We can summarize the posterior several ways, including the mean:"
   ]
  },
  {
   "cell_type": "code",
   "execution_count": 5,
   "metadata": {
    "collapsed": false
   },
   "outputs": [
    {
     "data": {
      "text/plain": [
       "55.952380952380956"
      ]
     },
     "execution_count": 5,
     "metadata": {},
     "output_type": "execute_result"
    }
   ],
   "source": [
    "suite.Mean()"
   ]
  },
  {
   "cell_type": "markdown",
   "metadata": {},
   "source": [
    "Median:"
   ]
  },
  {
   "cell_type": "code",
   "execution_count": 6,
   "metadata": {
    "collapsed": false
   },
   "outputs": [
    {
     "data": {
      "text/plain": [
       "56"
      ]
     },
     "execution_count": 6,
     "metadata": {},
     "output_type": "execute_result"
    }
   ],
   "source": [
    "suite.Percentile(50)"
   ]
  },
  {
   "cell_type": "markdown",
   "metadata": {},
   "source": [
    "The peak of the posterior, known as the Maximum Aposteori Probability (MAP)"
   ]
  },
  {
   "cell_type": "code",
   "execution_count": 7,
   "metadata": {
    "collapsed": false
   },
   "outputs": [
    {
     "data": {
      "text/plain": [
       "56"
      ]
     },
     "execution_count": 7,
     "metadata": {},
     "output_type": "execute_result"
    }
   ],
   "source": [
    "suite.MAP()"
   ]
  },
  {
   "cell_type": "markdown",
   "metadata": {},
   "source": [
    "And a 90% credible interval"
   ]
  },
  {
   "cell_type": "code",
   "execution_count": 8,
   "metadata": {
    "collapsed": false
   },
   "outputs": [
    {
     "data": {
      "text/plain": [
       "(51, 61)"
      ]
     },
     "execution_count": 8,
     "metadata": {},
     "output_type": "execute_result"
    }
   ],
   "source": [
    "suite.CredibleInterval(90)"
   ]
  },
  {
   "cell_type": "markdown",
   "metadata": {},
   "source": [
    "We can look up a particular value in the posterior PMF, but the result doesn't mean much, because we could have divided the range (0-100) into as many pieces as we like, and the result would be different."
   ]
  },
  {
   "cell_type": "code",
   "execution_count": 9,
   "metadata": {
    "collapsed": false
   },
   "outputs": [
    {
     "data": {
      "text/plain": [
       "0.02097652612954468"
      ]
     },
     "execution_count": 9,
     "metadata": {},
     "output_type": "execute_result"
    }
   ],
   "source": [
    "suite.Prob(50)"
   ]
  },
  {
   "cell_type": "markdown",
   "metadata": {},
   "source": [
    "## Different priors\n",
    "\n",
    "Let's see how that looks with different priors.\n",
    "\n",
    "Here's a function that makes a uniform prior:"
   ]
  },
  {
   "cell_type": "code",
   "execution_count": 10,
   "metadata": {
    "collapsed": true
   },
   "outputs": [],
   "source": [
    "def UniformPrior(label='uniform'):\n",
    "    \"\"\"Makes a Suite with a uniform prior.\"\"\"\n",
    "    suite = Euro(range(0, 101), label=label)\n",
    "    return suite"
   ]
  },
  {
   "cell_type": "markdown",
   "metadata": {},
   "source": [
    "And another that makes a triangular prior."
   ]
  },
  {
   "cell_type": "code",
   "execution_count": 11,
   "metadata": {
    "collapsed": true
   },
   "outputs": [],
   "source": [
    "def TrianglePrior(label='triangle'):\n",
    "    \"\"\"Makes a Suite with a triangle prior.\"\"\"\n",
    "    suite = Euro(label=label)\n",
    "    for x in range(0, 51):\n",
    "        suite[x] = x\n",
    "    for x in range(51, 101):\n",
    "        suite[x] = 100-x \n",
    "    suite.Normalize()\n",
    "    return suite"
   ]
  },
  {
   "cell_type": "markdown",
   "metadata": {},
   "source": [
    "Here's what they look like:"
   ]
  },
  {
   "cell_type": "code",
   "execution_count": 12,
   "metadata": {
    "collapsed": false
   },
   "outputs": [
    {
     "data": {
      "image/png": "[encoded data removed]",
      "text/plain": [
       "<Figure size 432x288 with 1 Axes>"
      ]
     },
     "metadata": {},
     "output_type": "display_data"
    }
   ],
   "source": [
    "triangle = TrianglePrior()\n",
    "uniform = UniformPrior()\n",
    "suites = [triangle, uniform]\n",
    "\n",
    "thinkplot.Pdfs(suites)\n",
    "thinkplot.Config(xlabel='x', ylabel='Probability')"
   ]
  },
  {
   "cell_type": "markdown",
   "metadata": {},
   "source": [
    "If we update them both with the same data:"
   ]
  },
  {
   "cell_type": "code",
   "execution_count": 13,
   "metadata": {
    "collapsed": true
   },
   "outputs": [],
   "source": [
    "def RunUpdate(suite, heads=140, tails=110):\n",
    "    \"\"\"Updates the Suite with the given number of heads and tails.\n",
    "\n",
    "    suite: Suite object\n",
    "    heads: int\n",
    "    tails: int\n",
    "    \"\"\"\n",
    "    dataset = 'H' * heads + 'T' * tails\n",
    "    for data in dataset:\n",
    "        suite.Update(data)"
   ]
  },
  {
   "cell_type": "code",
   "execution_count": 14,
   "metadata": {
    "collapsed": true
   },
   "outputs": [],
   "source": [
    "for suite in suites:\n",
    "    RunUpdate(suite)"
   ]
  },
  {
   "cell_type": "markdown",
   "metadata": {},
   "source": [
    "The results are almost identical; the remaining difference is unlikely to matter in practice."
   ]
  },
  {
   "cell_type": "code",
   "execution_count": 15,
   "metadata": {
    "collapsed": false
   },
   "outputs": [
    {
     "data": {
      "image/png": "[encoded data removed]",
      "text/plain": [
       "<Figure size 432x288 with 1 Axes>"
      ]
     },
     "metadata": {},
     "output_type": "display_data"
    }
   ],
   "source": [
    "thinkplot.Pdfs(suites)\n",
    "thinkplot.Config(xlabel='x', ylabel='Probability')"
   ]
  },
  {
   "cell_type": "markdown",
   "metadata": {},
   "source": [
    "## The binomial likelihood function\n",
    "\n",
    "We can make the Euro class more efficient by computing the likelihood of the entire dataset at once, rather than one coin toss at a time.\n",
    "\n",
    "If the probability of heads is p, we can compute the probability of k=140 heads in n=250 tosses using the binomial PMF."
   ]
  },
  {
   "cell_type": "code",
   "execution_count": 16,
   "metadata": {
    "collapsed": true
   },
   "outputs": [],
   "source": [
    "class Euro2(Suite):\n",
    "    \"\"\"Represents hypotheses about the probability of heads.\"\"\"\n",
    "\n",
    "    def Likelihood(self, data, hypo):\n",
    "        \"\"\"Computes the likelihood of the data under the hypothesis.\n",
    "\n",
    "        hypo: integer value of x, the probability of heads (0-100)\n",
    "        data: tuple of (number of heads, number of tails)\n",
    "        \"\"\"\n",
    "        x = hypo / 100.0\n",
    "        heads, tails = data\n",
    "        like = x**heads * (1-x)**tails\n",
    "        return like"
   ]
  },
  {
   "cell_type": "markdown",
   "metadata": {},
   "source": [
    "I left out the binomial coefficient ${n}\\choose{k}$ because it does not depend on `p`, so it's the same for all hypotheses.  "
   ]
  },
  {
   "cell_type": "code",
   "execution_count": 17,
   "metadata": {
    "collapsed": false
   },
   "outputs": [
    {
     "data": {
      "text/plain": [
       "2.6088321798736822e-76"
      ]
     },
     "execution_count": 17,
     "metadata": {},
     "output_type": "execute_result"
    }
   ],
   "source": [
    "suite = Euro2(range(0, 101))\n",
    "dataset = 140, 110\n",
    "suite.Update(dataset)"
   ]
  },
  {
   "cell_type": "markdown",
   "metadata": {},
   "source": [
    "Here's what the posterior looks like."
   ]
  },
  {
   "cell_type": "code",
   "execution_count": 18,
   "metadata": {
    "collapsed": false
   },
   "outputs": [
    {
     "data": {
      "image/png": "[encoded data removed]",
      "text/plain": [
       "<Figure size 432x288 with 1 Axes>"
      ]
     },
     "metadata": {},
     "output_type": "display_data"
    }
   ],
   "source": [
    "thinkplot.Pdf(suite)"
   ]
  },
  {
   "cell_type": "markdown",
   "metadata": {},
   "source": [
    "## The Beta distribution\n",
    "\n",
    "The Beta distribution is a conjugate prior for the binomial likelihood function, which means that if you start with a Beta distribution and update with a binomial likelihood, the posterior is also Beta.\n",
    "\n",
    "Also, given the parameters of the prior and the data, we can compute the parameters of the posterior directly.  The following class represents a Beta distribution and provides a constant-time Update method."
   ]
  },
  {
   "cell_type": "code",
   "execution_count": 19,
   "metadata": {
    "collapsed": true
   },
   "outputs": [],
   "source": [
    "from scipy import special\n",
    "\n",
    "class Beta:\n",
    "    \"\"\"Represents a Beta distribution.\n",
    "\n",
    "    See http://en.wikipedia.org/wiki/Beta_distribution\n",
    "    \"\"\"\n",
    "    def __init__(self, alpha=1, beta=1, label=None):\n",
    "        \"\"\"Initializes a Beta distribution.\"\"\"\n",
    "        self.alpha = alpha\n",
    "        self.beta = beta\n",
    "        self.label = label if label is not None else '_nolegend_'\n",
    "\n",
    "    def Update(self, data):\n",
    "        \"\"\"Updates a Beta distribution.\n",
    "\n",
    "        data: pair of int (heads, tails)\n",
    "        \"\"\"\n",
    "        heads, tails = data\n",
    "        self.alpha += heads\n",
    "        self.beta += tails\n",
    "\n",
    "    def Mean(self):\n",
    "        \"\"\"Computes the mean of this distribution.\"\"\"\n",
    "        return self.alpha / (self.alpha + self.beta)\n",
    "\n",
    "    def MAP(self):\n",
    "        \"\"\"Computes the value with maximum a posteori probability.\"\"\"\n",
    "        a = self.alpha - 1\n",
    "        b = self.beta - 1\n",
    "        return a / (a + b)\n",
    "\n",
    "    def Random(self):\n",
    "        \"\"\"Generates a random variate from this distribution.\"\"\"\n",
    "        return random.betavariate(self.alpha, self.beta)\n",
    "\n",
    "    def Sample(self, n):\n",
    "        \"\"\"Generates a random sample from this distribution.\n",
    "\n",
    "        n: int sample size\n",
    "        \"\"\"\n",
    "        size = n,\n",
    "        return np.random.beta(self.alpha, self.beta, size)\n",
    "\n",
    "    def EvalPdf(self, x):\n",
    "        \"\"\"Evaluates the PDF at x.\"\"\"\n",
    "        return x ** (self.alpha - 1) * (1 - x) ** (self.beta - 1)\n",
    "\n",
    "    def MakePmf(self, steps=101, label=None):\n",
    "        \"\"\"Returns a Pmf of this distribution.\n",
    "\n",
    "        Note: Normally, we just evaluate the PDF at a sequence\n",
    "        of points and treat the probability density as a probability\n",
    "        mass.\n",
    "\n",
    "        But if alpha or beta is less than one, we have to be\n",
    "        more careful because the PDF goes to infinity at x=0\n",
    "        and x=1.  In that case we evaluate the CDF and compute\n",
    "        differences.\n",
    "\n",
    "        The result is a little funny, because the values at 0 and 1\n",
    "        are not symmetric.  Nevertheless, it is a reasonable discrete\n",
    "        model of the continuous distribution, and behaves well as\n",
    "        the number of values increases.\n",
    "        \"\"\"\n",
    "        if label is None and self.label is not None:\n",
    "            label = self.label\n",
    "\n",
    "        if self.alpha < 1 or self.beta < 1:\n",
    "            cdf = self.MakeCdf()\n",
    "            pmf = cdf.MakePmf()\n",
    "            return pmf\n",
    "\n",
    "        xs = [i / (steps - 1) for i in range(steps)]\n",
    "        probs = [self.EvalPdf(x) for x in xs]\n",
    "        pmf = Pmf(dict(zip(xs, probs)), label=label)\n",
    "        return pmf\n",
    "\n",
    "    def MakeCdf(self, steps=101):\n",
    "        \"\"\"Returns the CDF of this distribution.\"\"\"\n",
    "        xs = [i / (steps - 1) for i in range(steps)]\n",
    "        ps = special.betainc(self.alpha, self.beta, xs)\n",
    "        cdf = Cdf(xs, ps)\n",
    "        return cdf\n",
    "\n",
    "    def Percentile(self, ps):\n",
    "        \"\"\"Returns the given percentiles from this distribution.\n",
    "\n",
    "        ps: scalar, array, or list of [0-100]\n",
    "        \"\"\"\n",
    "        ps = np.asarray(ps) / 100\n",
    "        xs = special.betaincinv(self.alpha, self.beta, ps)\n",
    "        return xs\n"
   ]
  },
  {
   "cell_type": "markdown",
   "metadata": {},
   "source": [
    "Here's how we use it."
   ]
  },
  {
   "cell_type": "code",
   "execution_count": 20,
   "metadata": {
    "collapsed": false
   },
   "outputs": [
    {
     "data": {
      "text/plain": [
       "0.5595238095238095"
      ]
     },
     "execution_count": 20,
     "metadata": {},
     "output_type": "execute_result"
    }
   ],
   "source": [
    "beta = Beta()\n",
    "beta.Update((140, 110))\n",
    "beta.Mean()"
   ]
  },
  {
   "cell_type": "markdown",
   "metadata": {},
   "source": [
    "And here's the posterior."
   ]
  },
  {
   "cell_type": "code",
   "execution_count": 21,
   "metadata": {
    "collapsed": false
   },
   "outputs": [
    {
     "data": {
      "image/png": "[encoded data removed]",
      "text/plain": [
       "<Figure size 432x288 with 1 Axes>"
      ]
     },
     "metadata": {},
     "output_type": "display_data"
    }
   ],
   "source": [
    "thinkplot.Pdf(beta.MakePmf())"
   ]
  },
  {
   "cell_type": "markdown",
   "metadata": {},
   "source": [
    "Amazing, no?"
   ]
  },
  {
   "cell_type": "markdown",
   "metadata": {},
   "source": [
    "**Exercise:** One way to construct priors is to make a Beta distribution and adjust the parameters until it has the shape you want.  Then when you do an update, the data get added to the parameters of the prior.  Since the parameters of the prior play the same mathematical role as the data, they are sometimes called \"precounts\".\n",
    "\n",
    "Suppose you believe that most coins are fair or unlikely to deviate from 50% by more than a few percentage points.  Construct a prior that captures this belief and update it with the Euro data.  How much effect does it have on the posterior, compared to the uniform prior?\n",
    "\n",
    "Hint: A Beta distribution with parameters `(1, 1)` is uniform from 0 to 1."
   ]
  },
  {
   "cell_type": "code",
   "execution_count": 22,
   "metadata": {
    "collapsed": false
   },
   "outputs": [
    {
     "data": {
      "image/png": "[encoded data removed]",
      "text/plain": [
       "<Figure size 432x288 with 1 Axes>"
      ]
     },
     "metadata": {},
     "output_type": "display_data"
    }
   ],
   "source": [
    "# Solution\n",
    "\n",
    "# Here's the uniform prior\n",
    "    \n",
    "uniform = Beta(1, 1, label='uniform')\n",
    "thinkplot.Pdf(uniform.MakePmf())"
   ]
  },
  {
   "cell_type": "code",
   "execution_count": 23,
   "metadata": {
    "collapsed": false
   },
   "outputs": [
    {
     "data": {
      "image/png": "[encoded data removed]",
      "text/plain": [
       "<Figure size 432x288 with 1 Axes>"
      ]
     },
     "metadata": {},
     "output_type": "display_data"
    }
   ],
   "source": [
    "# Solution\n",
    "\n",
    "# And here's what it looks like after the update\n",
    "    \n",
    "uniform.Update(dataset)\n",
    "thinkplot.Pdf(beta.MakePmf())"
   ]
  },
  {
   "cell_type": "code",
   "execution_count": 24,
   "metadata": {
    "collapsed": false
   },
   "outputs": [
    {
     "data": {
      "image/png": "[encoded data removed]",
      "text/plain": [
       "<Figure size 432x288 with 1 Axes>"
      ]
     },
     "metadata": {},
     "output_type": "display_data"
    }
   ],
   "source": [
    "# Solution\n",
    "\n",
    "# Here's a beta prior with precounts chosen to represent\n",
    "# background knowledge about coins.\n",
    "    \n",
    "beta = Beta(100, 100, label='beta')\n",
    "thinkplot.Pdf(beta.MakePmf())"
   ]
  },
  {
   "cell_type": "code",
   "execution_count": 25,
   "metadata": {
    "collapsed": false
   },
   "outputs": [
    {
     "data": {
      "image/png": "[encoded data removed]",
      "text/plain": [
       "<Figure size 432x288 with 1 Axes>"
      ]
     },
     "metadata": {},
     "output_type": "display_data"
    }
   ],
   "source": [
    "# Solution\n",
    "\n",
    "# And here's what it looks like after the update\n",
    "    \n",
    "beta.Update(dataset)\n",
    "thinkplot.Pdf(beta.MakePmf())"
   ]
  },
  {
   "cell_type": "code",
   "execution_count": 26,
   "metadata": {
    "collapsed": false
   },
   "outputs": [
    {
     "data": {
      "image/png": "[encoded data removed]",
      "text/plain": [
       "<Figure size 432x288 with 1 Axes>"
      ]
     },
     "metadata": {},
     "output_type": "display_data"
    }
   ],
   "source": [
    "# Solution\n",
    "\n",
    "# Comparing the two, we see that the (more) informative\n",
    "# prior influences the location and spread of the\n",
    "# posterior.\n",
    "    \n",
    "thinkplot.Pdf(beta.MakePmf())\n",
    "thinkplot.Pdf(uniform.MakePmf())\n",
    "thinkplot.Config(xlabel='x', ylabel='Probability')"
   ]
  }
 ],
 "metadata": {
  "kernelspec": {
   "display_name": "Python 3",
   "language": "python",
   "name": "python3"
  },
  "language_info": {
   "codemirror_mode": {
    "name": "ipython",
    "version": 3
   },
   "file_extension": ".py",
   "mimetype": "text/x-python",
   "name": "python",
   "nbconvert_exporter": "python",
   "pygments_lexer": "ipython3",
   "version": "3.7.0"
  }
 },
 "nbformat": 4,
 "nbformat_minor": 2
}
