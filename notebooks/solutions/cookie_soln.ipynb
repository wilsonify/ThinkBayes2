{
 "cells": [
  {
   "cell_type": "markdown",
   "metadata": {},
   "source": [
    "# Think Bayes\n",
    "\n",
    "This notebook presents example code and exercise solutions for Think Bayes.\n",
    "\n",
    "Copyright 2018 Allen B. Downey\n",
    "\n",
    "MIT License: https://opensource.org/licenses/MIT"
   ]
  },
  {
   "cell_type": "code",
   "execution_count": 1,
   "metadata": {},
   "outputs": [],
   "source": [
    "# Configure Jupyter so figures appear in the notebook\n",
    "%matplotlib inline\n",
    "\n",
    "# Configure Jupyter to display the assigned value after an assignment\n",
    "%config InteractiveShell.ast_node_interactivity='last_expr_or_assign'\n",
    "\n",
    "# import classes from thinkbayes2\n",
    "from thinkbayes2 import Hist, Pmf, Suite"
   ]
  },
  {
   "cell_type": "markdown",
   "metadata": {},
   "source": [
    "## The cookie problem\n",
    "\n",
    "Here's the original statement of the cookie problem:\n",
    "\n",
    "> Suppose there are two bowls of cookies. Bowl 1 contains 30 vanilla cookies and 10 chocolate cookies. Bowl 2 contains 20 of each.\n",
    "\n",
    "> Now suppose you choose one of the bowls at random and, without looking, select a cookie at random. The cookie is vanilla. What is the probability that it came from Bowl 1?\n",
    "\n",
    "If we only draw one cookie, this problem is simple, but if we draw more than one cookie, there is a complication: do we replace the cookie after each draw, or not?\n",
    "\n",
    "If we replace the cookie, the proportion of vanilla and chocolate cookies stays the same, and we can perform multiple updates with the same likelihood function.\n",
    "\n",
    "If we *don't* replace the cookie, the proportions change and we have to keep track of the number of cookies in each bowl.\n",
    "\n",
    "**Exercise:**\n",
    "\n",
    "Modify the solution from the book to handle selection without replacement.\n",
    "\n",
    "Hint: Add instance variables to the `Cookie` class to represent the hypothetical state of the bowls, and modify the `Likelihood` function accordingly.\n",
    "\n",
    "To represent the state of a Bowl, you might want to use the `Hist` class from `thinkbayes2`."
   ]
  },
  {
   "cell_type": "code",
   "execution_count": 2,
   "metadata": {},
   "outputs": [
    {
     "name": "stdout",
     "output_type": "stream",
     "text": [
      "chocolate 10\n",
      "vanilla 30\n"
     ]
    }
   ],
   "source": [
    "# Solution\n",
    "\n",
    "# We'll need an object to keep track of the number of cookies in each bowl. \n",
    "# I use a Hist object, defined in thinkbayes2:\n",
    "\n",
    "bowl1 = Hist(dict(vanilla=30, chocolate=10))\n",
    "bowl2 = Hist(dict(vanilla=20, chocolate=20))\n",
    "\n",
    "bowl1.Print()"
   ]
  },
  {
   "cell_type": "code",
   "execution_count": 3,
   "metadata": {},
   "outputs": [
    {
     "name": "stdout",
     "output_type": "stream",
     "text": [
      "Hist({'vanilla': 30, 'chocolate': 10}) 0.5\n",
      "Hist({'vanilla': 20, 'chocolate': 20}) 0.5\n"
     ]
    }
   ],
   "source": [
    "# Solution\n",
    "\n",
    "# Now I'll make a Pmf that contains the two bowls, giving them equal probability.\n",
    "\n",
    "pmf = Pmf([bowl1, bowl2])\n",
    "pmf.Print()"
   ]
  },
  {
   "cell_type": "code",
   "execution_count": 4,
   "metadata": {},
   "outputs": [],
   "source": [
    "# Solution\n",
    "\n",
    "# Here's a likelihood function that takes `hypo`, which is one of \n",
    "# the Hist objects that represents a bowl, and `data`, which is either \n",
    "# 'vanilla' or 'chocolate'.\n",
    "\n",
    "# `likelihood` computes the likelihood of the data under the hypothesis, \n",
    "# and as a side effect, it removes one of the cookies from `hypo`\n",
    "\n",
    "def likelihood(hypo, data):\n",
    "    like = hypo[data] / hypo.Total()\n",
    "    if like:\n",
    "        hypo[data] -= 1\n",
    "    return like"
   ]
  },
  {
   "cell_type": "code",
   "execution_count": 5,
   "metadata": {},
   "outputs": [],
   "source": [
    "# Solution\n",
    "\n",
    "# Now for the update.  We have to loop through the hypotheses and \n",
    "# compute the likelihood of the data under each hypothesis.\n",
    "\n",
    "def update(pmf, data):\n",
    "    for hypo in pmf:\n",
    "        pmf[hypo] *= likelihood(hypo, data)\n",
    "    return pmf.Normalize()"
   ]
  },
  {
   "cell_type": "code",
   "execution_count": 6,
   "metadata": {},
   "outputs": [
    {
     "name": "stdout",
     "output_type": "stream",
     "text": [
      "Hist({'vanilla': 29, 'chocolate': 10}) 0.6000000000000001\n",
      "Hist({'vanilla': 19, 'chocolate': 20}) 0.4\n"
     ]
    }
   ],
   "source": [
    "# Solution\n",
    "\n",
    "# Here's the first update.  The posterior probabilities are the \n",
    "# same as what we got before, but notice that the number of cookies \n",
    "# in each Hist has been updated.\n",
    "\n",
    "update(pmf, 'vanilla')\n",
    "pmf.Print()"
   ]
  },
  {
   "cell_type": "code",
   "execution_count": 7,
   "metadata": {},
   "outputs": [
    {
     "name": "stdout",
     "output_type": "stream",
     "text": [
      "Hist({'vanilla': 29, 'chocolate': 9}) 0.4285714285714286\n",
      "Hist({'vanilla': 19, 'chocolate': 19}) 0.5714285714285714\n"
     ]
    }
   ],
   "source": [
    "# Solution\n",
    "\n",
    "# So when we update again with a chocolate cookies, we get different \n",
    "# likelihoods, and different posteriors.\n",
    "\n",
    "update(pmf, 'chocolate')\n",
    "pmf.Print()"
   ]
  },
  {
   "cell_type": "code",
   "execution_count": 8,
   "metadata": {},
   "outputs": [
    {
     "name": "stdout",
     "output_type": "stream",
     "text": [
      "0.2621359223300971\n",
      "0.13636363636363635\n",
      "0.06104651162790699\n",
      "0.023800528900642243\n",
      "0.008061420345489446\n",
      "0.002316602316602318\n",
      "0.0005355548943766738\n",
      "8.929900282780178e-05\n",
      "8.118750253710948e-06\n",
      "0.0\n"
     ]
    }
   ],
   "source": [
    "# Solution\n",
    "\n",
    "# If we get 10 more chocolate cookies, that eliminates Bowl 1 completely\n",
    "\n",
    "for i in range(10):\n",
    "    update(pmf, 'chocolate')\n",
    "    print(pmf[bowl1])"
   ]
  }
 ],
 "metadata": {
  "kernelspec": {
   "display_name": "Python 3",
   "language": "python",
   "name": "python3"
  },
  "language_info": {
   "codemirror_mode": {
    "name": "ipython",
    "version": 3
   },
   "file_extension": ".py",
   "mimetype": "text/x-python",
   "name": "python",
   "nbconvert_exporter": "python",
   "pygments_lexer": "ipython3",
   "version": "3.7.0"
  }
 },
 "nbformat": 4,
 "nbformat_minor": 2
}
