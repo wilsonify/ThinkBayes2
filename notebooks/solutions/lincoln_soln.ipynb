{
 "cells": [
  {
   "cell_type": "markdown",
   "metadata": {},
   "source": [
    "# Think Bayes\n",
    "\n",
    "This notebook presents example code and exercise solutions for Think Bayes.\n",
    "\n",
    "Copyright 2018 Allen B. Downey\n",
    "\n",
    "MIT License: https://opensource.org/licenses/MIT"
   ]
  },
  {
   "cell_type": "code",
   "execution_count": 1,
   "metadata": {},
   "outputs": [],
   "source": [
    "# Configure Jupyter so figures appear in the notebook\n",
    "%matplotlib inline\n",
    "\n",
    "# Configure Jupyter to display the assigned value after an assignment\n",
    "%config InteractiveShell.ast_node_interactivity='last_expr_or_assign'\n",
    "\n",
    "# import classes from thinkbayes2\n",
    "from thinkbayes2 import Suite, Joint\n",
    "import thinkplot\n",
    "\n",
    "import numpy as np"
   ]
  },
  {
   "cell_type": "markdown",
   "metadata": {},
   "source": [
    "## The Lincoln index problem\n",
    "\n",
    "A few years ago my occasional correspondent John D. Cook wrote an excellent\n",
    "blog post about the Lincoln index, which is a way to estimate the\n",
    "number of errors in a document (or program) by comparing results from\n",
    "two independent testers. \n",
    "\n",
    "http://www.johndcook.com/blog/2010/07/13/lincoln-index/\n",
    "\n",
    "Here's his presentation of the problem:\n",
    "\n",
    ">\"Suppose you have a tester who finds 20 bugs in your program. You\n",
    "want to estimate how many bugs are really in the program. You know\n",
    "there are at least 20 bugs, and if you have supreme confidence in your\n",
    "tester, you may suppose there are around 20 bugs. But maybe your\n",
    "tester isn't very good. Maybe there are hundreds of bugs. How can you\n",
    "have any idea how many bugs there are? There's no way to know with one\n",
    "tester. But if you have two testers, you can get a good idea, even if\n",
    "you don't know how skilled the testers are.\"\n",
    "\n",
    "Then he presents the Lincoln index, an estimator \"described by\n",
    "Frederick Charles Lincoln in 1930,\" where Wikpedia's use of\n",
    "\"described\" is a hint that the index is another example of Stigler's\n",
    "law of eponymy.\n",
    "\n",
    ">\"Suppose two testers independently search for bugs. Let `k1` be the\n",
    "number of errors the first tester finds and `k2` the number of errors\n",
    "the second tester finds. Let `c` be the number of errors both testers\n",
    "find. The Lincoln Index estimates the total number of errors as `k1 * k2 / c`\"\n",
    "\n",
    "I changed his notation to be consistent with mine.\n",
    "\n",
    "So if the first tester finds 20 bugs, the second finds 15, and they\n",
    "find 3 in common, we estimate that there are about 100 bugs.\n",
    "\n",
    "Of course, whenever I see something like this, the idea that pops into\n",
    "my head is that there must be a (better) Bayesian solution! And there\n",
    "is."
   ]
  },
  {
   "cell_type": "code",
   "execution_count": 9,
   "metadata": {},
   "outputs": [],
   "source": [
    "def choose(n, k, d={}):\n",
    "    \"\"\"The binomial coefficient \"n choose k\".\n",
    "\n",
    "    Args:\n",
    "      n: number of trials\n",
    "      k: number of successes\n",
    "      d: map from (n,k) tuples to cached results\n",
    "\n",
    "    Returns:\n",
    "      int\n",
    "    \"\"\"\n",
    "    if k == 0:\n",
    "        return 1\n",
    "    if n == 0:\n",
    "        return 0\n",
    "\n",
    "    try:\n",
    "        return d[n, k]\n",
    "    except KeyError:\n",
    "        res = choose(n-1, k) + choose(n-1, k-1)\n",
    "        d[n, k] = res\n",
    "        return res"
   ]
  },
  {
   "cell_type": "code",
   "execution_count": 10,
   "metadata": {},
   "outputs": [],
   "source": [
    "def binom(k, n, p):\n",
    "    \"\"\"Computes the rest of the binomial PMF.\n",
    "\n",
    "    k: number of hits\n",
    "    n: number of attempts\n",
    "    p: probability of a hit\n",
    "    \"\"\"\n",
    "    return p**k * (1-p)**(n-k)"
   ]
  },
  {
   "cell_type": "code",
   "execution_count": 11,
   "metadata": {},
   "outputs": [],
   "source": [
    "class Lincoln(Suite, Joint):\n",
    "    \"\"\"Represents hypotheses about the number of errors.\"\"\"\n",
    "\n",
    "    def Likelihood(self, data, hypo):\n",
    "        \"\"\"Computes the likelihood of the data under the hypothesis.\n",
    "\n",
    "        hypo: n, p1, p2\n",
    "        data: k1, k2, c\n",
    "        \"\"\"\n",
    "        n, p1, p2 = hypo\n",
    "        k1, k2, c = data\n",
    "\n",
    "        part1 = choose(n, k1) * binom(k1, n, p1)\n",
    "        part2 = choose(k1, c) * choose(n-k1, k2-c) * binom(k2, n, p2)\n",
    "        return part1 * part2"
   ]
  },
  {
   "cell_type": "code",
   "execution_count": 12,
   "metadata": {},
   "outputs": [],
   "source": [
    "from itertools import product\n",
    "\n",
    "ns = range(32, 350)\n",
    "ps = np.linspace(0, 1, 31)\n",
    "hypos = product(ns, ps, ps)\n",
    "\n",
    "suite = Lincoln(hypos);"
   ]
  },
  {
   "cell_type": "code",
   "execution_count": 13,
   "metadata": {},
   "outputs": [
    {
     "data": {
      "text/plain": [
       "8.754332814652824e-06"
      ]
     },
     "execution_count": 13,
     "metadata": {},
     "output_type": "execute_result"
    }
   ],
   "source": [
    "data = 20, 15, 3\n",
    "suite.Update(data)"
   ]
  },
  {
   "cell_type": "code",
   "execution_count": 14,
   "metadata": {},
   "outputs": [
    {
     "name": "stdout",
     "output_type": "stream",
     "text": [
      "post mean n 105.4574266270967\n",
      "MAP n 72\n"
     ]
    },
    {
     "data": {
      "image/png": "[encoded data removed]",
      "text/plain": [
       "<Figure size 432x288 with 1 Axes>"
      ]
     },
     "metadata": {},
     "output_type": "display_data"
    }
   ],
   "source": [
    "n_marginal = suite.Marginal(0)\n",
    "\n",
    "print('post mean n', n_marginal.Mean())\n",
    "print('MAP n', n_marginal.MaximumLikelihood())\n",
    "\n",
    "thinkplot.Pdf(n_marginal, label='n')\n",
    "thinkplot.decorate(xlabel='Number of bugs',\n",
    "                   ylabel='PMF')"
   ]
  },
  {
   "cell_type": "code",
   "execution_count": 15,
   "metadata": {},
   "outputs": [
    {
     "name": "stdout",
     "output_type": "stream",
     "text": [
      "post mean p1 0.22994325572783006\n",
      "MAP p1 0.2\n",
      "post mean p2 0.17521894732003349\n",
      "MAP p2 0.13333333333333333\n"
     ]
    },
    {
     "data": {
      "image/png": "[encoded data removed]",
      "text/plain": [
       "<Figure size 432x288 with 1 Axes>"
      ]
     },
     "metadata": {},
     "output_type": "display_data"
    }
   ],
   "source": [
    "p1_marginal = suite.Marginal(1, label='p1')\n",
    "p2_marginal = suite.Marginal(2, label='p2')\n",
    "\n",
    "print('post mean p1', p1_marginal.Mean())\n",
    "print('MAP p1', p1_marginal.MaximumLikelihood())\n",
    "\n",
    "print('post mean p2', p2_marginal.Mean())\n",
    "print('MAP p2', p2_marginal.MaximumLikelihood())\n",
    "\n",
    "thinkplot.Pdf(p1_marginal)\n",
    "thinkplot.Pdf(p2_marginal)\n",
    "\n",
    "thinkplot.decorate(xlabel='Probability of finding a bug',\n",
    "                   ylabel='PMF')"
   ]
  },
  {
   "cell_type": "code",
   "execution_count": null,
   "metadata": {},
   "outputs": [],
   "source": []
  }
 ],
 "metadata": {
  "kernelspec": {
   "display_name": "Python 3",
   "language": "python",
   "name": "python3"
  },
  "language_info": {
   "codemirror_mode": {
    "name": "ipython",
    "version": 3
   },
   "file_extension": ".py",
   "mimetype": "text/x-python",
   "name": "python",
   "nbconvert_exporter": "python",
   "pygments_lexer": "ipython3",
   "version": "3.6.5"
  }
 },
 "nbformat": 4,
 "nbformat_minor": 2
}
